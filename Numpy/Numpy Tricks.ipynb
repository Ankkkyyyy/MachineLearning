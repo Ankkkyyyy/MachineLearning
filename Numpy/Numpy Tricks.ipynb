{
 "cells": [
  {
   "cell_type": "markdown",
   "id": "41f9c1a8",
   "metadata": {},
   "source": [
    "# Numpy Tricks "
   ]
  },
  {
   "cell_type": "markdown",
   "id": "81db464f",
   "metadata": {},
   "source": [
    "## np.sort() : Return a sorted copy of an array. \n",
    "### np.sort(array_dedo_yaha , axis = , kind = None , order = None )\n",
    "\n",
    "#### kind - mai koi bhi sorting technique daalskte e.g quicksort , merge sort etc etc "
   ]
  },
  {
   "cell_type": "code",
   "execution_count": 1,
   "id": "8f071f1f",
   "metadata": {},
   "outputs": [
    {
     "data": {
      "text/plain": [
       "array([12,  9, 97, 38, 92, 82, 36, 73, 68, 95, 53, 80, 25, 30, 69])"
      ]
     },
     "execution_count": 1,
     "metadata": {},
     "output_type": "execute_result"
    }
   ],
   "source": [
    "import numpy as np \n",
    "\n",
    "a = np.random.randint(1,100,15)\n",
    "a"
   ]
  },
  {
   "cell_type": "code",
   "execution_count": 2,
   "id": "d2f826da",
   "metadata": {},
   "outputs": [
    {
     "data": {
      "text/plain": [
       "array([[ 5, 76, 52, 33],\n",
       "       [75, 97, 97, 42],\n",
       "       [76,  8,  9, 32],\n",
       "       [58, 15, 82, 39],\n",
       "       [13, 87, 70, 23],\n",
       "       [12, 89, 38, 27]])"
      ]
     },
     "execution_count": 2,
     "metadata": {},
     "output_type": "execute_result"
    }
   ],
   "source": [
    "b = np.random.randint(1,100,24).reshape(6,4)\n",
    "b"
   ]
  },
  {
   "cell_type": "code",
   "execution_count": 3,
   "id": "03dc362a",
   "metadata": {},
   "outputs": [
    {
     "data": {
      "text/plain": [
       "array([ 9, 12, 25, 30, 36, 38, 53, 68, 69, 73, 80, 82, 92, 95, 97])"
      ]
     },
     "execution_count": 3,
     "metadata": {},
     "output_type": "execute_result"
    }
   ],
   "source": [
    "np.sort(a)"
   ]
  },
  {
   "cell_type": "code",
   "execution_count": 4,
   "id": "67bf773a",
   "metadata": {},
   "outputs": [
    {
     "data": {
      "text/plain": [
       "array([[ 5, 76, 52, 33],\n",
       "       [75, 97, 97, 42],\n",
       "       [76,  8,  9, 32],\n",
       "       [58, 15, 82, 39],\n",
       "       [13, 87, 70, 23],\n",
       "       [12, 89, 38, 27]])"
      ]
     },
     "execution_count": 4,
     "metadata": {},
     "output_type": "execute_result"
    }
   ],
   "source": [
    "b"
   ]
  },
  {
   "cell_type": "code",
   "execution_count": 5,
   "id": "eddf9ce3",
   "metadata": {},
   "outputs": [
    {
     "data": {
      "text/plain": [
       "array([[ 5, 33, 52, 76],\n",
       "       [42, 75, 97, 97],\n",
       "       [ 8,  9, 32, 76],\n",
       "       [15, 39, 58, 82],\n",
       "       [13, 23, 70, 87],\n",
       "       [12, 27, 38, 89]])"
      ]
     },
     "execution_count": 5,
     "metadata": {},
     "output_type": "execute_result"
    }
   ],
   "source": [
    "# So yeah 2d array hai so Row wise sort krta hai as you can see. \n",
    "np.sort(b)"
   ]
  },
  {
   "cell_type": "code",
   "execution_count": 6,
   "id": "f4e7a137",
   "metadata": {},
   "outputs": [
    {
     "data": {
      "text/plain": [
       "array([[ 5,  8,  9, 23],\n",
       "       [12, 15, 38, 27],\n",
       "       [13, 76, 52, 32],\n",
       "       [58, 87, 70, 33],\n",
       "       [75, 89, 82, 39],\n",
       "       [76, 97, 97, 42]])"
      ]
     },
     "execution_count": 6,
     "metadata": {},
     "output_type": "execute_result"
    }
   ],
   "source": [
    "#  1 mtlb row\n",
    "np.sort(b,axis=0)"
   ]
  },
  {
   "cell_type": "code",
   "execution_count": 7,
   "id": "1909560a",
   "metadata": {},
   "outputs": [
    {
     "data": {
      "text/plain": [
       "array([97, 95, 92, 82, 80, 73, 69, 68, 53, 38, 36, 30, 25, 12,  9])"
      ]
     },
     "execution_count": 7,
     "metadata": {},
     "output_type": "execute_result"
    }
   ],
   "source": [
    "# if descending mai sort krna hoga tou \n",
    "\n",
    "np.sort(a)[::-1]"
   ]
  },
  {
   "cell_type": "markdown",
   "id": "6239be0b",
   "metadata": {},
   "source": [
    "# np.append() \n",
    "\n",
    "###  The numpy.appends() values along the mentioned axis at the end of the array."
   ]
  },
  {
   "cell_type": "code",
   "execution_count": 8,
   "id": "f19543b5",
   "metadata": {},
   "outputs": [
    {
     "data": {
      "text/plain": [
       "array([ 12,   9,  97,  38,  92,  82,  36,  73,  68,  95,  53,  80,  25,\n",
       "        30,  69, 900])"
      ]
     },
     "execution_count": 8,
     "metadata": {},
     "output_type": "execute_result"
    }
   ],
   "source": [
    "np.append(a,900)"
   ]
  },
  {
   "cell_type": "code",
   "execution_count": 9,
   "id": "41e04da7",
   "metadata": {},
   "outputs": [
    {
     "data": {
      "text/plain": [
       "array([[ 5, 76, 52, 33],\n",
       "       [75, 97, 97, 42],\n",
       "       [76,  8,  9, 32],\n",
       "       [58, 15, 82, 39],\n",
       "       [13, 87, 70, 23],\n",
       "       [12, 89, 38, 27]])"
      ]
     },
     "execution_count": 9,
     "metadata": {},
     "output_type": "execute_result"
    }
   ],
   "source": [
    "b"
   ]
  },
  {
   "cell_type": "code",
   "execution_count": 10,
   "id": "ba4d55a6",
   "metadata": {},
   "outputs": [
    {
     "data": {
      "text/plain": [
       "array([[ 5., 76., 52., 33.,  1.],\n",
       "       [75., 97., 97., 42.,  1.],\n",
       "       [76.,  8.,  9., 32.,  1.],\n",
       "       [58., 15., 82., 39.,  1.],\n",
       "       [13., 87., 70., 23.,  1.],\n",
       "       [12., 89., 38., 27.,  1.]])"
      ]
     },
     "execution_count": 10,
     "metadata": {},
     "output_type": "execute_result"
    }
   ],
   "source": [
    "# ek existing 2d array mai 1 extra column add krdiya humnne\n",
    "np.append(b,np.ones((b.shape[0],1)),axis=1)"
   ]
  },
  {
   "cell_type": "markdown",
   "id": "88cbe4d3",
   "metadata": {},
   "source": [
    "# np.concatenate()\n",
    "\n",
    "## numpy.concatenate() function concatenate a sequence of arrays along an existing axis."
   ]
  },
  {
   "cell_type": "code",
   "execution_count": 11,
   "id": "bb535fda",
   "metadata": {},
   "outputs": [
    {
     "name": "stdout",
     "output_type": "stream",
     "text": [
      "[[0 1 2]\n",
      " [3 4 5]]\n",
      "[[ 6  7  8]\n",
      " [ 9 10 11]]\n"
     ]
    }
   ],
   "source": [
    "c = np.arange(6).reshape(2,3)\n",
    "d = np.arange(6,12).reshape(2,3)\n",
    "\n",
    "print(c)\n",
    "print(d)"
   ]
  },
  {
   "cell_type": "code",
   "execution_count": 12,
   "id": "096fb24b",
   "metadata": {},
   "outputs": [
    {
     "data": {
      "text/plain": [
       "array([[ 0,  1,  2,  6,  7,  8],\n",
       "       [ 3,  4,  5,  9, 10, 11]])"
      ]
     },
     "execution_count": 12,
     "metadata": {},
     "output_type": "execute_result"
    }
   ],
   "source": [
    "# axis - 0 row , 1 - column\n",
    "np.concatenate((c,d),axis=1) # column concatenation"
   ]
  },
  {
   "cell_type": "code",
   "execution_count": 13,
   "id": "81a8608a",
   "metadata": {},
   "outputs": [
    {
     "data": {
      "text/plain": [
       "array([[ 0,  1,  2],\n",
       "       [ 3,  4,  5],\n",
       "       [ 6,  7,  8],\n",
       "       [ 9, 10, 11]])"
      ]
     },
     "execution_count": 13,
     "metadata": {},
     "output_type": "execute_result"
    }
   ],
   "source": [
    "# row concatenation\n",
    "np.concatenate((c,d),axis=0)"
   ]
  },
  {
   "cell_type": "markdown",
   "id": "a3bd64c9",
   "metadata": {},
   "source": [
    "# Np.Unique() - yeah unique value nikalsakte hai array mai se \n",
    "\n",
    "### with the help of np.unique(0 method, we can get the unique values from an array \n",
    "### as given as parameter in np.unique() method.\n",
    "\n"
   ]
  },
  {
   "cell_type": "code",
   "execution_count": 14,
   "id": "82501316",
   "metadata": {},
   "outputs": [],
   "source": [
    "x = np.array([1,1,2,2,3,3,4,4,5,5,9,9])"
   ]
  },
  {
   "cell_type": "code",
   "execution_count": 15,
   "id": "3226a945",
   "metadata": {},
   "outputs": [
    {
     "data": {
      "text/plain": [
       "array([1, 2, 3, 4, 5, 9])"
      ]
     },
     "execution_count": 15,
     "metadata": {},
     "output_type": "execute_result"
    }
   ],
   "source": [
    "np.unique(x)"
   ]
  },
  {
   "cell_type": "markdown",
   "id": "2742b28e",
   "metadata": {},
   "source": [
    "# np.expand_dims -> dimension expand krneko use krte hai \n",
    "\n",
    "### with the help of Numpy.expand_dims() method. we can get the expanded dimensions of an array.\n"
   ]
  },
  {
   "cell_type": "code",
   "execution_count": 16,
   "id": "8257d35e",
   "metadata": {},
   "outputs": [
    {
     "data": {
      "text/plain": [
       "(15,)"
      ]
     },
     "execution_count": 16,
     "metadata": {},
     "output_type": "execute_result"
    }
   ],
   "source": [
    "a.shape # -> 1d array hai "
   ]
  },
  {
   "cell_type": "code",
   "execution_count": 17,
   "id": "9b748fea",
   "metadata": {},
   "outputs": [
    {
     "data": {
      "text/plain": [
       "(1, 15)"
      ]
     },
     "execution_count": 17,
     "metadata": {},
     "output_type": "execute_result"
    }
   ],
   "source": [
    "np.expand_dims(a,axis=0).shape # - > 1 row 15 column yeha 2d bnngaya hai abh"
   ]
  },
  {
   "cell_type": "code",
   "execution_count": 18,
   "id": "befa76fd",
   "metadata": {},
   "outputs": [
    {
     "data": {
      "text/plain": [
       "(15, 1)"
      ]
     },
     "execution_count": 18,
     "metadata": {},
     "output_type": "execute_result"
    }
   ],
   "source": [
    "np.expand_dims(a,axis=1).shape # ->  15 column & 1 row ka 2d array bnngya "
   ]
  },
  {
   "cell_type": "markdown",
   "id": "11529caa",
   "metadata": {},
   "source": [
    "### Use of np.expand_dims(): it helps in making row vector & column vector jbh linear algebra padhunga tbh ###  dekhunga \n",
    "#### Yeah Function kaafi use full hai \n",
    "\n",
    "# ML algorithm  & even DL mai CNN images jbh leta hai tou most of the algos\n",
    "## ko 1 data nahi chaye hota unhe  Batches of data chaye hote hai or else set of data chaye rehte hai \n",
    "## so at that time we use np.expand_dims()\n"
   ]
  },
  {
   "cell_type": "markdown",
   "id": "e3c75053",
   "metadata": {},
   "source": [
    "## -----------------------------------------------------------------------------------------------------------------------"
   ]
  },
  {
   "cell_type": "markdown",
   "id": "237ed612",
   "metadata": {},
   "source": [
    "# np.where() - The np.where() function returns the indixes of elements in an input array where the given condition is satisfied.\n",
    "\n",
    "##  np.where(condition, True,False)"
   ]
  },
  {
   "cell_type": "code",
   "execution_count": 19,
   "id": "a4576f7f",
   "metadata": {},
   "outputs": [
    {
     "data": {
      "text/plain": [
       "array([12,  9, 97, 38, 92, 82, 36, 73, 68, 95, 53, 80, 25, 30, 69])"
      ]
     },
     "execution_count": 19,
     "metadata": {},
     "output_type": "execute_result"
    }
   ],
   "source": [
    "a"
   ]
  },
  {
   "cell_type": "code",
   "execution_count": 20,
   "id": "a0409055",
   "metadata": {},
   "outputs": [
    {
     "data": {
      "text/plain": [
       "(array([ 2,  4,  5,  7,  8,  9, 10, 11, 14], dtype=int64),)"
      ]
     },
     "execution_count": 20,
     "metadata": {},
     "output_type": "execute_result"
    }
   ],
   "source": [
    "# find all the indices with value greater than 50 \n",
    "\n",
    "np.where(a>50)"
   ]
  },
  {
   "cell_type": "code",
   "execution_count": 21,
   "id": "e593975b",
   "metadata": {},
   "outputs": [
    {
     "data": {
      "text/plain": [
       "array([12,  9,  0, 38,  0,  0, 36,  0,  0,  0,  0,  0, 25, 30,  0])"
      ]
     },
     "execution_count": 21,
     "metadata": {},
     "output_type": "execute_result"
    }
   ],
   "source": [
    "# Replace all  values greater than > 50 \n",
    "\n",
    "np.where(a>50,0,a)\n",
    "\n",
    "## so we replaced all the values that are greater than 50 we replaced it by 0"
   ]
  },
  {
   "cell_type": "code",
   "execution_count": 22,
   "id": "c40ac102",
   "metadata": {},
   "outputs": [
    {
     "data": {
      "text/plain": [
       "array([ 0,  9, 97,  0,  0,  0,  0, 73,  0, 95, 53,  0, 25,  0, 69])"
      ]
     },
     "execution_count": 22,
     "metadata": {},
     "output_type": "execute_result"
    }
   ],
   "source": [
    "# replace even number with 0 \n",
    "np.where(a%2==0,0,a)"
   ]
  },
  {
   "cell_type": "markdown",
   "id": "6707050e",
   "metadata": {},
   "source": [
    "# np.argmax() - yeah sbhse maximum element ka index batata hai\n",
    "\n",
    "## The numpy.argmax() function returns indices of the max element of the array in a particular axis.\n",
    "\n",
    "## Analysis ke time & all kaam aajata hai "
   ]
  },
  {
   "cell_type": "code",
   "execution_count": 23,
   "id": "bb39c905",
   "metadata": {},
   "outputs": [
    {
     "data": {
      "text/plain": [
       "array([12,  9, 97, 38, 92, 82, 36, 73, 68, 95, 53, 80, 25, 30, 69])"
      ]
     },
     "execution_count": 23,
     "metadata": {},
     "output_type": "execute_result"
    }
   ],
   "source": [
    "# code \n",
    "a"
   ]
  },
  {
   "cell_type": "code",
   "execution_count": 24,
   "id": "3ad8f819",
   "metadata": {},
   "outputs": [
    {
     "data": {
      "text/plain": [
       "2"
      ]
     },
     "execution_count": 24,
     "metadata": {},
     "output_type": "execute_result"
    }
   ],
   "source": [
    "np.argmax(a)"
   ]
  },
  {
   "cell_type": "code",
   "execution_count": 25,
   "id": "5d8156c4",
   "metadata": {},
   "outputs": [
    {
     "data": {
      "text/plain": [
       "array([[ 5, 76, 52, 33],\n",
       "       [75, 97, 97, 42],\n",
       "       [76,  8,  9, 32],\n",
       "       [58, 15, 82, 39],\n",
       "       [13, 87, 70, 23],\n",
       "       [12, 89, 38, 27]])"
      ]
     },
     "execution_count": 25,
     "metadata": {},
     "output_type": "execute_result"
    }
   ],
   "source": [
    "b"
   ]
  },
  {
   "cell_type": "code",
   "execution_count": 26,
   "id": "585972da",
   "metadata": {},
   "outputs": [
    {
     "data": {
      "text/plain": [
       "array([1, 1, 0, 2, 1, 1], dtype=int64)"
      ]
     },
     "execution_count": 26,
     "metadata": {},
     "output_type": "execute_result"
    }
   ],
   "source": [
    "# so 2d array ka bhi esehie batayega \n",
    "np.argmax(b,axis=1) # row wise max element batayega    "
   ]
  },
  {
   "cell_type": "code",
   "execution_count": 27,
   "id": "8c69314e",
   "metadata": {},
   "outputs": [
    {
     "data": {
      "text/plain": [
       "array([2, 1, 1, 1], dtype=int64)"
      ]
     },
     "execution_count": 27,
     "metadata": {},
     "output_type": "execute_result"
    }
   ],
   "source": [
    "np.argmax(b,axis=0) # now column wise max element batayega    "
   ]
  },
  {
   "cell_type": "markdown",
   "id": "c4182849",
   "metadata": {},
   "source": [
    "# np.argmin(): yeah sbhse minimum element ka index batata hai "
   ]
  },
  {
   "cell_type": "code",
   "execution_count": 28,
   "id": "82d26260",
   "metadata": {},
   "outputs": [
    {
     "data": {
      "text/plain": [
       "array([12,  9, 97, 38, 92, 82, 36, 73, 68, 95, 53, 80, 25, 30, 69])"
      ]
     },
     "execution_count": 28,
     "metadata": {},
     "output_type": "execute_result"
    }
   ],
   "source": [
    "a"
   ]
  },
  {
   "cell_type": "code",
   "execution_count": 29,
   "id": "ad6d6ebe",
   "metadata": {},
   "outputs": [
    {
     "data": {
      "text/plain": [
       "1"
      ]
     },
     "execution_count": 29,
     "metadata": {},
     "output_type": "execute_result"
    }
   ],
   "source": [
    "np.argmin(a)"
   ]
  },
  {
   "cell_type": "code",
   "execution_count": 30,
   "id": "906df666",
   "metadata": {},
   "outputs": [
    {
     "data": {
      "text/plain": [
       "array([[ 5, 76, 52, 33],\n",
       "       [75, 97, 97, 42],\n",
       "       [76,  8,  9, 32],\n",
       "       [58, 15, 82, 39],\n",
       "       [13, 87, 70, 23],\n",
       "       [12, 89, 38, 27]])"
      ]
     },
     "execution_count": 30,
     "metadata": {},
     "output_type": "execute_result"
    }
   ],
   "source": [
    "b"
   ]
  },
  {
   "cell_type": "code",
   "execution_count": 31,
   "id": "d6600be2",
   "metadata": {},
   "outputs": [
    {
     "data": {
      "text/plain": [
       "array([0, 3, 1, 1, 0, 0], dtype=int64)"
      ]
     },
     "execution_count": 31,
     "metadata": {},
     "output_type": "execute_result"
    }
   ],
   "source": [
    "np.argmin(b,axis=1)# row wise"
   ]
  },
  {
   "cell_type": "code",
   "execution_count": 32,
   "id": "3c1ded9f",
   "metadata": {},
   "outputs": [
    {
     "data": {
      "text/plain": [
       "array([0, 2, 2, 4], dtype=int64)"
      ]
     },
     "execution_count": 32,
     "metadata": {},
     "output_type": "execute_result"
    }
   ],
   "source": [
    "np.argmin(b,axis=0)# col wise"
   ]
  },
  {
   "cell_type": "code",
   "execution_count": 33,
   "id": "bc473024",
   "metadata": {},
   "outputs": [
    {
     "data": {
      "text/plain": [
       "0"
      ]
     },
     "execution_count": 33,
     "metadata": {},
     "output_type": "execute_result"
    }
   ],
   "source": [
    "np.argmin(b)"
   ]
  },
  {
   "cell_type": "markdown",
   "id": "a727ea78",
   "metadata": {},
   "source": [
    "# np.cumsums(): # This is used when we want to complete the cummulative sum of array elements over a given axis.\n",
    "\n",
    "# cummulative sum matlab - >  har element ko peeche vale element se jbh joddte tou usko cummulative sum bolte hai "
   ]
  },
  {
   "cell_type": "code",
   "execution_count": 34,
   "id": "6bf740b8",
   "metadata": {},
   "outputs": [
    {
     "data": {
      "text/plain": [
       "array([12,  9, 97, 38, 92, 82, 36, 73, 68, 95, 53, 80, 25, 30, 69])"
      ]
     },
     "execution_count": 34,
     "metadata": {},
     "output_type": "execute_result"
    }
   ],
   "source": [
    "a"
   ]
  },
  {
   "cell_type": "code",
   "execution_count": 35,
   "id": "6012af71",
   "metadata": {},
   "outputs": [
    {
     "data": {
      "text/plain": [
       "array([ 12,  21, 118, 156, 248, 330, 366, 439, 507, 602, 655, 735, 760,\n",
       "       790, 859], dtype=int32)"
      ]
     },
     "execution_count": 35,
     "metadata": {},
     "output_type": "execute_result"
    }
   ],
   "source": [
    "np.cumsum(a)"
   ]
  },
  {
   "cell_type": "code",
   "execution_count": 36,
   "id": "23b0892a",
   "metadata": {},
   "outputs": [
    {
     "data": {
      "text/plain": [
       "array([[ 5, 76, 52, 33],\n",
       "       [75, 97, 97, 42],\n",
       "       [76,  8,  9, 32],\n",
       "       [58, 15, 82, 39],\n",
       "       [13, 87, 70, 23],\n",
       "       [12, 89, 38, 27]])"
      ]
     },
     "execution_count": 36,
     "metadata": {},
     "output_type": "execute_result"
    }
   ],
   "source": [
    "b"
   ]
  },
  {
   "cell_type": "code",
   "execution_count": 38,
   "id": "465b89b5",
   "metadata": {},
   "outputs": [
    {
     "data": {
      "text/plain": [
       "array([   5,   81,  133,  166,  241,  338,  435,  477,  553,  561,  570,\n",
       "        602,  660,  675,  757,  796,  809,  896,  966,  989, 1001, 1090,\n",
       "       1128, 1155], dtype=int32)"
      ]
     },
     "execution_count": 38,
     "metadata": {},
     "output_type": "execute_result"
    }
   ],
   "source": [
    "np.cumsum(b) #axis specify nahi kiya tou 1d mai convert kardega yeah"
   ]
  },
  {
   "cell_type": "code",
   "execution_count": 40,
   "id": "8f9b31c8",
   "metadata": {},
   "outputs": [
    {
     "data": {
      "text/plain": [
       "array([[  5,  81, 133, 166],\n",
       "       [ 75, 172, 269, 311],\n",
       "       [ 76,  84,  93, 125],\n",
       "       [ 58,  73, 155, 194],\n",
       "       [ 13, 100, 170, 193],\n",
       "       [ 12, 101, 139, 166]], dtype=int32)"
      ]
     },
     "execution_count": 40,
     "metadata": {},
     "output_type": "execute_result"
    }
   ],
   "source": [
    "np.cumsum(b,axis=1) # row wise "
   ]
  },
  {
   "cell_type": "code",
   "execution_count": 42,
   "id": "a2c300c7",
   "metadata": {},
   "outputs": [
    {
     "data": {
      "text/plain": [
       "array([[  5,  76,  52,  33],\n",
       "       [ 80, 173, 149,  75],\n",
       "       [156, 181, 158, 107],\n",
       "       [214, 196, 240, 146],\n",
       "       [227, 283, 310, 169],\n",
       "       [239, 372, 348, 196]], dtype=int32)"
      ]
     },
     "execution_count": 42,
     "metadata": {},
     "output_type": "execute_result"
    }
   ],
   "source": [
    "np.cumsum(b,axis=0) # column wise"
   ]
  },
  {
   "cell_type": "markdown",
   "id": "dd135e6b",
   "metadata": {},
   "source": [
    "# np.cumprod() : yeah cummulative product deta same as np.cumsum hai bss vo add krta hai & yeah Multiply "
   ]
  },
  {
   "cell_type": "code",
   "execution_count": 44,
   "id": "b883d05e",
   "metadata": {},
   "outputs": [
    {
     "data": {
      "text/plain": [
       "array([12,  9, 97, 38, 92, 82, 36, 73, 68, 95, 53, 80, 25, 30, 69])"
      ]
     },
     "execution_count": 44,
     "metadata": {},
     "output_type": "execute_result"
    }
   ],
   "source": [
    "a"
   ]
  },
  {
   "cell_type": "code",
   "execution_count": 45,
   "id": "75b87155",
   "metadata": {},
   "outputs": [
    {
     "data": {
      "text/plain": [
       "array([         12,         108,       10476,      398088,    36624096,\n",
       "       -1291791424,   740148992, -1803698432,  1902558208,   354403328,\n",
       "        1603507200,  -568442880, -1326170112, -1130397696,  -688029696],\n",
       "      dtype=int32)"
      ]
     },
     "execution_count": 45,
     "metadata": {},
     "output_type": "execute_result"
    }
   ],
   "source": [
    "np.cumprod(a)"
   ]
  },
  {
   "cell_type": "markdown",
   "id": "9bbe8900",
   "metadata": {},
   "source": [
    "# np.percentile :-  yeahbhi imp hai thoda\n",
    "\n",
    "## np.percentile() function used to compute the nth percentile of given data (array) \n",
    "percentile ka mtlb  suppose kisika 99 percentile aaya hai so mtlb 99 public ushse peeche hai. \n",
    "\n",
    " percentile formula :  p = (n/N) x 100 , n:kitnelog aapse peeche hai & N : total kitnelog hai "
   ]
  },
  {
   "cell_type": "code",
   "execution_count": 46,
   "id": "c76fd076",
   "metadata": {},
   "outputs": [
    {
     "data": {
      "text/plain": [
       "array([12,  9, 97, 38, 92, 82, 36, 73, 68, 95, 53, 80, 25, 30, 69])"
      ]
     },
     "execution_count": 46,
     "metadata": {},
     "output_type": "execute_result"
    }
   ],
   "source": [
    "a"
   ]
  },
  {
   "cell_type": "code",
   "execution_count": 47,
   "id": "41de2276",
   "metadata": {},
   "outputs": [
    {
     "data": {
      "text/plain": [
       "97.0"
      ]
     },
     "execution_count": 47,
     "metadata": {},
     "output_type": "execute_result"
    }
   ],
   "source": [
    "# 100 percentile mtlb sbhse max vala number \n",
    "np.percentile(a,100)"
   ]
  },
  {
   "cell_type": "code",
   "execution_count": 48,
   "id": "d20023de",
   "metadata": {},
   "outputs": [
    {
     "data": {
      "text/plain": [
       "9.0"
      ]
     },
     "execution_count": 48,
     "metadata": {},
     "output_type": "execute_result"
    }
   ],
   "source": [
    "# 0 percentile mtlb minimum jo sbhse kamm hoo \n",
    "np.percentile(a,0)"
   ]
  },
  {
   "cell_type": "code",
   "execution_count": 49,
   "id": "035b414e",
   "metadata": {},
   "outputs": [
    {
     "data": {
      "text/plain": [
       "68.0"
      ]
     },
     "execution_count": 49,
     "metadata": {},
     "output_type": "execute_result"
    }
   ],
   "source": [
    "np.percentile(a,50)"
   ]
  },
  {
   "cell_type": "code",
   "execution_count": 50,
   "id": "9b651857",
   "metadata": {},
   "outputs": [
    {
     "data": {
      "text/plain": [
       "68.0"
      ]
     },
     "execution_count": 50,
     "metadata": {},
     "output_type": "execute_result"
    }
   ],
   "source": [
    "np.median(a)"
   ]
  },
  {
   "cell_type": "markdown",
   "id": "fce98d5f",
   "metadata": {},
   "source": [
    "# np.histogram() acha khasa kaam ka function hai yeabhi \n",
    "\n",
    "### it basically gives frequency count "
   ]
  },
  {
   "cell_type": "code",
   "execution_count": 51,
   "id": "312f4c44",
   "metadata": {},
   "outputs": [
    {
     "data": {
      "text/plain": [
       "array([12,  9, 97, 38, 92, 82, 36, 73, 68, 95, 53, 80, 25, 30, 69])"
      ]
     },
     "execution_count": 51,
     "metadata": {},
     "output_type": "execute_result"
    }
   ],
   "source": [
    "a"
   ]
  },
  {
   "cell_type": "code",
   "execution_count": 53,
   "id": "b24fd149",
   "metadata": {},
   "outputs": [
    {
     "data": {
      "text/plain": [
       "(array([6, 9], dtype=int64), array([  0,  50, 100]))"
      ]
     },
     "execution_count": 53,
     "metadata": {},
     "output_type": "execute_result"
    }
   ],
   "source": [
    "np.histogram(a,bins=[0,50,100])"
   ]
  },
  {
   "cell_type": "markdown",
   "id": "9b3bb0f5",
   "metadata": {},
   "source": [
    "# np.corrcoef : Stats ka hai lyk & yeah batata hai ki  koi bhi 2 Quantitys kitni co-related hai basically relation kaisa hai \n",
    "\n",
    "#### Return mai yeah Matrix deta hai \n",
    "\n",
    "#### so correlation generally -1 se 1 ke beech mai hota hai \n",
    "\n",
    "#### if correlation  0 hai so iska matlb experience & salary mai koi relation nahi hai \n",
    "#### if correlation 1 hai so experience & salary both are positively correlated matlab jitna experience badega utna hie salary ka amount bhi badega\n",
    "\n",
    "#### if correlation -1 hai so isko negatively correlated bollenge iska mtlb ki jitna experience badega utne amount se salary decrease hogga .\n"
   ]
  },
  {
   "cell_type": "code",
   "execution_count": 60,
   "id": "e0516765",
   "metadata": {},
   "outputs": [
    {
     "data": {
      "text/plain": [
       "array([[1.        , 0.82415611],\n",
       "       [0.82415611, 1.        ]])"
      ]
     },
     "execution_count": 60,
     "metadata": {},
     "output_type": "execute_result"
    }
   ],
   "source": [
    "salary = np.array([900,9000000,90000,90000000])\n",
    "experience = np.array([1,3,2,4])\n",
    "\n",
    "np.corrcoef(salary,experience)\n",
    "\n",
    "# TPM Transistional Probability Matrix : \n",
    "\n",
    "#             salary   experience\n",
    "#     salary    1        0.82\n",
    "# experience    0.82      1"
   ]
  },
  {
   "cell_type": "markdown",
   "id": "818c40a6",
   "metadata": {},
   "source": [
    "# np.isin(): bhaut saare item search krke dedeta hai 1 array se\n",
    "With the help of np.isin() method  \n",
    "ek given array ke andar multiple item search krke dedeta hai "
   ]
  },
  {
   "cell_type": "code",
   "execution_count": 63,
   "id": "9e2bd0c0",
   "metadata": {},
   "outputs": [
    {
     "data": {
      "text/plain": [
       "array([12,  9, 97, 38, 92, 82, 36, 73, 68, 95, 53, 80, 25, 30, 69])"
      ]
     },
     "execution_count": 63,
     "metadata": {},
     "output_type": "execute_result"
    }
   ],
   "source": [
    "a"
   ]
  },
  {
   "cell_type": "code",
   "execution_count": 64,
   "id": "607df17e",
   "metadata": {},
   "outputs": [
    {
     "data": {
      "text/plain": [
       "array([False, False, False, False, False, False, False, False, False,\n",
       "       False, False,  True, False,  True, False])"
      ]
     },
     "execution_count": 64,
     "metadata": {},
     "output_type": "execute_result"
    }
   ],
   "source": [
    "items = [10,20,30,40,50,60,70,80,90,100]\n",
    "np.isin(a,items)"
   ]
  },
  {
   "cell_type": "code",
   "execution_count": 66,
   "id": "c815178b",
   "metadata": {},
   "outputs": [
    {
     "data": {
      "text/plain": [
       "array([80, 30])"
      ]
     },
     "execution_count": 66,
     "metadata": {},
     "output_type": "execute_result"
    }
   ],
   "source": [
    "a[np.isin(a,items)]\n",
    "# abh yeah jo item mila hai vo dedega humme"
   ]
  },
  {
   "cell_type": "code",
   "execution_count": null,
   "id": "3b2432a7",
   "metadata": {},
   "outputs": [],
   "source": []
  },
  {
   "cell_type": "markdown",
   "id": "512d24ed",
   "metadata": {},
   "source": [
    "# np.flip()  - Mirror Image kindoff hai\n",
    "The np.flip() function reverses the order of array elements along the specified axis, preserving the shape of the array.\n"
   ]
  },
  {
   "cell_type": "code",
   "execution_count": 67,
   "id": "a677f495",
   "metadata": {},
   "outputs": [
    {
     "data": {
      "text/plain": [
       "array([12,  9, 97, 38, 92, 82, 36, 73, 68, 95, 53, 80, 25, 30, 69])"
      ]
     },
     "execution_count": 67,
     "metadata": {},
     "output_type": "execute_result"
    }
   ],
   "source": [
    "# Code \n",
    "a"
   ]
  },
  {
   "cell_type": "code",
   "execution_count": 69,
   "id": "bc799f41",
   "metadata": {},
   "outputs": [
    {
     "data": {
      "text/plain": [
       "array([69, 30, 25, 80, 53, 95, 68, 73, 36, 82, 92, 38, 97,  9, 12])"
      ]
     },
     "execution_count": 69,
     "metadata": {},
     "output_type": "execute_result"
    }
   ],
   "source": [
    "np.flip(a)"
   ]
  },
  {
   "cell_type": "code",
   "execution_count": 70,
   "id": "28add485",
   "metadata": {},
   "outputs": [
    {
     "data": {
      "text/plain": [
       "array([[ 5, 76, 52, 33],\n",
       "       [75, 97, 97, 42],\n",
       "       [76,  8,  9, 32],\n",
       "       [58, 15, 82, 39],\n",
       "       [13, 87, 70, 23],\n",
       "       [12, 89, 38, 27]])"
      ]
     },
     "execution_count": 70,
     "metadata": {},
     "output_type": "execute_result"
    }
   ],
   "source": [
    "b"
   ]
  },
  {
   "cell_type": "code",
   "execution_count": 71,
   "id": "32a3f5a9",
   "metadata": {},
   "outputs": [
    {
     "data": {
      "text/plain": [
       "array([[27, 38, 89, 12],\n",
       "       [23, 70, 87, 13],\n",
       "       [39, 82, 15, 58],\n",
       "       [32,  9,  8, 76],\n",
       "       [42, 97, 97, 75],\n",
       "       [33, 52, 76,  5]])"
      ]
     },
     "execution_count": 71,
     "metadata": {},
     "output_type": "execute_result"
    }
   ],
   "source": [
    "# flip on 2d \n",
    "\n",
    "np.flip(b)\n",
    "# isme kya hua ki 1 baar column flipping hua then uskebaad Row flipping hua "
   ]
  },
  {
   "cell_type": "code",
   "execution_count": 72,
   "id": "785e7213",
   "metadata": {},
   "outputs": [
    {
     "data": {
      "text/plain": [
       "array([[33, 52, 76,  5],\n",
       "       [42, 97, 97, 75],\n",
       "       [32,  9,  8, 76],\n",
       "       [39, 82, 15, 58],\n",
       "       [23, 70, 87, 13],\n",
       "       [27, 38, 89, 12]])"
      ]
     },
     "execution_count": 72,
     "metadata": {},
     "output_type": "execute_result"
    }
   ],
   "source": [
    "# if 2d array ka single flipping karana hoo tou axis daaldo bss\n",
    "np.flip(b,axis=1)"
   ]
  },
  {
   "cell_type": "code",
   "execution_count": 73,
   "id": "4cae7745",
   "metadata": {},
   "outputs": [
    {
     "data": {
      "text/plain": [
       "array([[12, 89, 38, 27],\n",
       "       [13, 87, 70, 23],\n",
       "       [58, 15, 82, 39],\n",
       "       [76,  8,  9, 32],\n",
       "       [75, 97, 97, 42],\n",
       "       [ 5, 76, 52, 33]])"
      ]
     },
     "execution_count": 73,
     "metadata": {},
     "output_type": "execute_result"
    }
   ],
   "source": [
    "np.flip(b,axis=0)"
   ]
  },
  {
   "cell_type": "markdown",
   "id": "730269e8",
   "metadata": {},
   "source": [
    "# np.put() - replace krne mai kaam aajata hai  & Yeah Permanent array mai changes maardeta hai sidhe \n",
    "THe np.put() function replaces specific elements of an array with given values of p_array.\n",
    "Array indexed works on flattened array."
   ]
  },
  {
   "cell_type": "code",
   "execution_count": 74,
   "id": "85aa84ab",
   "metadata": {},
   "outputs": [
    {
     "data": {
      "text/plain": [
       "array([12,  9, 97, 38, 92, 82, 36, 73, 68, 95, 53, 80, 25, 30, 69])"
      ]
     },
     "execution_count": 74,
     "metadata": {},
     "output_type": "execute_result"
    }
   ],
   "source": [
    "a"
   ]
  },
  {
   "cell_type": "code",
   "execution_count": 75,
   "id": "33c83a5d",
   "metadata": {},
   "outputs": [],
   "source": [
    "np.put(a,[0,1],[99,999])"
   ]
  },
  {
   "cell_type": "code",
   "execution_count": 76,
   "id": "ad88e67e",
   "metadata": {},
   "outputs": [
    {
     "data": {
      "text/plain": [
       "array([ 99, 999,  97,  38,  92,  82,  36,  73,  68,  95,  53,  80,  25,\n",
       "        30,  69])"
      ]
     },
     "execution_count": 76,
     "metadata": {},
     "output_type": "execute_result"
    }
   ],
   "source": [
    "a"
   ]
  },
  {
   "cell_type": "markdown",
   "id": "5ea96d12",
   "metadata": {},
   "source": [
    "# np.delete() - \n",
    "The np.delete(0 function returns a new array of sub-arrays along with mentioned axis."
   ]
  },
  {
   "cell_type": "code",
   "execution_count": 77,
   "id": "bcf1a256",
   "metadata": {},
   "outputs": [
    {
     "data": {
      "text/plain": [
       "array([ 99, 999,  97,  38,  92,  82,  36,  73,  68,  95,  53,  80,  25,\n",
       "        30,  69])"
      ]
     },
     "execution_count": 77,
     "metadata": {},
     "output_type": "execute_result"
    }
   ],
   "source": [
    "a"
   ]
  },
  {
   "cell_type": "code",
   "execution_count": 91,
   "id": "3c10a958",
   "metadata": {},
   "outputs": [
    {
     "data": {
      "text/plain": [
       "array([ 99, 999,  97,  92,  82,  73,  95,  80,  25,  30,  69])"
      ]
     },
     "execution_count": 91,
     "metadata": {},
     "output_type": "execute_result"
    }
   ],
   "source": [
    "# let's delete multiple items now....\n",
    "np.delete(a,[3,6,8,10])"
   ]
  },
  {
   "cell_type": "code",
   "execution_count": 87,
   "id": "b161baa2",
   "metadata": {},
   "outputs": [
    {
     "data": {
      "text/plain": [
       "array([ 99, 999,  97,  38,  92,  82,  36,  73,  68,  95,  53,  80,  25,\n",
       "        30,  69])"
      ]
     },
     "execution_count": 87,
     "metadata": {},
     "output_type": "execute_result"
    }
   ],
   "source": [
    "a"
   ]
  },
  {
   "cell_type": "code",
   "execution_count": 90,
   "id": "c04902df",
   "metadata": {},
   "outputs": [
    {
     "data": {
      "text/plain": [
       "array([ 99, 999,  97,  92,  82,  36,  73,  68,  95,  53,  80,  25,  30,\n",
       "        69])"
      ]
     },
     "execution_count": 90,
     "metadata": {},
     "output_type": "execute_result"
    }
   ],
   "source": [
    "np.delete(a,3)"
   ]
  },
  {
   "cell_type": "markdown",
   "id": "442d908f",
   "metadata": {},
   "source": [
    "# Set Functions\n",
    "iska benefit yeah hai ki iska result hamesha numpy array mai hie millega , set mai nahi millega \n",
    "\n",
    "## 1. np.union1d\n",
    "## 2. np.intersect1d\n",
    "## 3. np.setdiff1d\n",
    "## 4. np.setxor1d\n",
    "## 5. np.in1d"
   ]
  },
  {
   "cell_type": "code",
   "execution_count": 97,
   "id": "29117583",
   "metadata": {},
   "outputs": [
    {
     "data": {
      "text/plain": [
       "array([1, 2, 3, 4, 5, 6, 7, 8, 9])"
      ]
     },
     "execution_count": 97,
     "metadata": {},
     "output_type": "execute_result"
    }
   ],
   "source": [
    "n1 = np.array([1,2,3,4,5])\n",
    "n2 = np.array([3,4,5,6,7,8,9])\n",
    "\n",
    "\n",
    "np.union1d(n1,n2)"
   ]
  },
  {
   "cell_type": "code",
   "execution_count": 99,
   "id": "fbc754a0",
   "metadata": {},
   "outputs": [
    {
     "data": {
      "text/plain": [
       "array([3, 4, 5])"
      ]
     },
     "execution_count": 99,
     "metadata": {},
     "output_type": "execute_result"
    }
   ],
   "source": [
    "# dono n1, n2 array ke andar ka common element display karlega \n",
    "\n",
    "np.intersect1d(n1,n2)"
   ]
  },
  {
   "cell_type": "code",
   "execution_count": 101,
   "id": "9d36ee6a",
   "metadata": {},
   "outputs": [
    {
     "data": {
      "text/plain": [
       "array([1, 2])"
      ]
     },
     "execution_count": 101,
     "metadata": {},
     "output_type": "execute_result"
    }
   ],
   "source": [
    "# np.setdiff1d(array,differencewith) so 1st normal array dalenge 2nd vala comparision dalenge # hai , nahi hai \n",
    "\n",
    "np.setdiff1d(n1,n2) \n",
    "# so 1 & 2 dega coz yeah n1 mai hai but n2 mai nahi "
   ]
  },
  {
   "cell_type": "code",
   "execution_count": 103,
   "id": "59303e65",
   "metadata": {},
   "outputs": [
    {
     "data": {
      "text/plain": [
       "array([6, 7, 8, 9])"
      ]
     },
     "execution_count": 103,
     "metadata": {},
     "output_type": "execute_result"
    }
   ],
   "source": [
    "# np.setdiff1d(n1,n2) \n",
    "\n",
    "np.setdiff1d(n2,n1)"
   ]
  },
  {
   "cell_type": "code",
   "execution_count": 104,
   "id": "ef5b5732",
   "metadata": {},
   "outputs": [
    {
     "data": {
      "text/plain": [
       "array([1, 2, 6, 7, 8, 9])"
      ]
     },
     "execution_count": 104,
     "metadata": {},
     "output_type": "execute_result"
    }
   ],
   "source": [
    "# np.setxor1d() - Jo common hoga dono mai vo nikalldega yeah & uncommon return krega bss \n",
    "\n",
    "np.setxor1d(n1,n2)"
   ]
  },
  {
   "cell_type": "code",
   "execution_count": 117,
   "id": "aea1b78c",
   "metadata": {},
   "outputs": [
    {
     "data": {
      "text/plain": [
       "array([False,  True, False, False, False])"
      ]
     },
     "execution_count": 117,
     "metadata": {},
     "output_type": "execute_result"
    }
   ],
   "source": [
    "# np.in1d(array, elements) - yeah membership operator jaisa hai bss\n",
    "\n",
    "np.in1d(n1,2)"
   ]
  },
  {
   "cell_type": "code",
   "execution_count": 112,
   "id": "aa32a1e4",
   "metadata": {},
   "outputs": [
    {
     "data": {
      "text/plain": [
       "array([False, False, False, False, False, False,  True])"
      ]
     },
     "execution_count": 112,
     "metadata": {},
     "output_type": "execute_result"
    }
   ],
   "source": [
    "np.in1d(n2,9)"
   ]
  },
  {
   "cell_type": "code",
   "execution_count": 116,
   "id": "45bad058",
   "metadata": {},
   "outputs": [
    {
     "data": {
      "text/plain": [
       "array([ True,  True, False,  True, False])"
      ]
     },
     "execution_count": 116,
     "metadata": {},
     "output_type": "execute_result"
    }
   ],
   "source": [
    "np.in1d(n1,[1,9,2,4,0])"
   ]
  },
  {
   "cell_type": "markdown",
   "id": "2f763dfe",
   "metadata": {},
   "source": [
    "# np.clip()  - Yeah specified range mai value rkhta hai bss\n",
    "npclip(array, min= , max=)\n"
   ]
  },
  {
   "cell_type": "code",
   "execution_count": 118,
   "id": "f56f0007",
   "metadata": {},
   "outputs": [
    {
     "data": {
      "text/plain": [
       "array([ 99, 999,  97,  38,  92,  82,  36,  73,  68,  95,  53,  80,  25,\n",
       "        30,  69])"
      ]
     },
     "execution_count": 118,
     "metadata": {},
     "output_type": "execute_result"
    }
   ],
   "source": [
    "a"
   ]
  },
  {
   "cell_type": "code",
   "execution_count": 123,
   "id": "91ffc277",
   "metadata": {},
   "outputs": [
    {
     "data": {
      "text/plain": [
       "array([99, 99, 97, 50, 92, 82, 50, 73, 68, 95, 53, 80, 50, 50, 69])"
      ]
     },
     "execution_count": 123,
     "metadata": {},
     "output_type": "execute_result"
    }
   ],
   "source": [
    "np.clip(a,a_min=50,a_max=99)"
   ]
  },
  {
   "cell_type": "code",
   "execution_count": null,
   "id": "85311a0f",
   "metadata": {},
   "outputs": [],
   "source": []
  }
 ],
 "metadata": {
  "kernelspec": {
   "display_name": "Python 3 (ipykernel)",
   "language": "python",
   "name": "python3"
  },
  "language_info": {
   "codemirror_mode": {
    "name": "ipython",
    "version": 3
   },
   "file_extension": ".py",
   "mimetype": "text/x-python",
   "name": "python",
   "nbconvert_exporter": "python",
   "pygments_lexer": "ipython3",
   "version": "3.9.13"
  }
 },
 "nbformat": 4,
 "nbformat_minor": 5
}
