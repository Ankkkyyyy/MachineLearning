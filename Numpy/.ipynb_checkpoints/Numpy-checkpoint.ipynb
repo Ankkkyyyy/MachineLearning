{
 "cells": [
  {
   "cell_type": "markdown",
   "id": "f00a5c0e",
   "metadata": {},
   "source": [
    "# Need of Numpy "
   ]
  },
  {
   "cell_type": "markdown",
   "id": "69135ea4",
   "metadata": {},
   "source": [
    "Alag se array ka zarrurat kya hai jbh List hai Python mai tou ?\n",
    "2008 & 2009 jbh aaya tha tbhi Matlab & R use krke ML krte theah. \n",
    "Because python slow tha tbhi sbh data type slow hai so python use nahi hota tha.\n",
    "ML mai GBS of data pe kaam krte theah.\n",
    "Tbh Numpy aagaya market mai \n"
   ]
  },
  {
   "cell_type": "markdown",
   "id": "9566c6fe",
   "metadata": {},
   "source": [
    "# Speciality "
   ]
  },
  {
   "cell_type": "markdown",
   "id": "d01cbcca",
   "metadata": {},
   "source": [
    "Numpy C mai bana hua hai pr uske around wrapper banaya gay ajis vajese hum Python mai use krte hai ushe. Fir  isliye C se hume speed millrha hai & comfort humme python ke syntax se millraha.\n",
    "Numpy ke vajese ML pssible hua python mai \n",
    "Numpy ke upar pandas, matplotlib sklearn sbh internally numpy use krte hai.\n"
   ]
  },
  {
   "cell_type": "markdown",
   "id": "d6cfad60",
   "metadata": {},
   "source": [
    "## Creating Numpy"
   ]
  },
  {
   "cell_type": "code",
   "execution_count": 1,
   "id": "bfdb098e",
   "metadata": {},
   "outputs": [
    {
     "name": "stdout",
     "output_type": "stream",
     "text": [
      "<class 'numpy.ndarray'>\n",
      "[1 2 3]\n"
     ]
    }
   ],
   "source": [
    "import numpy as np \n",
    "\n",
    "a= np.array([1,2,3])\n",
    "print(type(a))\n",
    "print(a)"
   ]
  },
  {
   "cell_type": "markdown",
   "id": "fbffd7fa",
   "metadata": {},
   "source": [
    "## 2D & 3D array"
   ]
  },
  {
   "cell_type": "code",
   "execution_count": 2,
   "id": "d242aa4a",
   "metadata": {},
   "outputs": [
    {
     "name": "stdout",
     "output_type": "stream",
     "text": [
      "[[  9 999 999]\n",
      " [989  90 999]]\n"
     ]
    }
   ],
   "source": [
    "# 2d array of numpy Matrix bhi bolskte \n",
    "b = np.array([[9,999,999],[989,90,999]])\n",
    "print(b)"
   ]
  },
  {
   "cell_type": "code",
   "execution_count": 3,
   "id": "605dd225",
   "metadata": {},
   "outputs": [
    {
     "name": "stdout",
     "output_type": "stream",
     "text": [
      "[[[1 2]\n",
      "  [3 4]]\n",
      "\n",
      " [[5 6]\n",
      "  [7 8]]]\n"
     ]
    }
   ],
   "source": [
    "# 3d array \n",
    "c = np.array([[[1,2],[3,4]],[[5,6],[7,8]]])\n",
    "print(c)"
   ]
  },
  {
   "cell_type": "code",
   "execution_count": 4,
   "id": "bf221094",
   "metadata": {},
   "outputs": [
    {
     "data": {
      "text/plain": [
       "array([1., 2., 3.])"
      ]
     },
     "execution_count": 4,
     "metadata": {},
     "output_type": "execute_result"
    }
   ],
   "source": [
    "# different data type\n",
    "np.array([1,2,3],dtype=float)\n"
   ]
  },
  {
   "cell_type": "code",
   "execution_count": 5,
   "id": "ec355fae",
   "metadata": {},
   "outputs": [
    {
     "data": {
      "text/plain": [
       "array([ True,  True,  True])"
      ]
     },
     "execution_count": 5,
     "metadata": {},
     "output_type": "execute_result"
    }
   ],
   "source": [
    "np.array([1,2,3],dtype=bool)"
   ]
  },
  {
   "cell_type": "markdown",
   "id": "136044bf",
   "metadata": {},
   "source": [
    "### Np.arange  same as range"
   ]
  },
  {
   "cell_type": "code",
   "execution_count": 6,
   "id": "934833d5",
   "metadata": {},
   "outputs": [
    {
     "name": "stdout",
     "output_type": "stream",
     "text": [
      "[1 2 3 4 5 6 7 8 9]\n"
     ]
    }
   ],
   "source": [
    "a=np.arange(1,10) # just same as range\n",
    "print(a)"
   ]
  },
  {
   "cell_type": "markdown",
   "id": "0dba3b16",
   "metadata": {},
   "source": [
    "### np.arange with reshape"
   ]
  },
  {
   "cell_type": "code",
   "execution_count": 7,
   "id": "37dbde42",
   "metadata": {},
   "outputs": [
    {
     "data": {
      "text/plain": [
       "array([[ 1,  2],\n",
       "       [ 3,  4],\n",
       "       [ 5,  6],\n",
       "       [ 7,  8],\n",
       "       [ 9, 10]])"
      ]
     },
     "execution_count": 7,
     "metadata": {},
     "output_type": "execute_result"
    }
   ],
   "source": [
    "#E.g used fo reshaping matrix vgera bananekeliye \n",
    "np.arange(1,11).reshape(5,2)"
   ]
  },
  {
   "cell_type": "code",
   "execution_count": 8,
   "id": "f584d202",
   "metadata": {},
   "outputs": [
    {
     "data": {
      "text/plain": [
       "array([[ 1,  2,  3,  4,  5],\n",
       "       [ 6,  7,  8,  9, 10]])"
      ]
     },
     "execution_count": 8,
     "metadata": {},
     "output_type": "execute_result"
    }
   ],
   "source": [
    "np.arange(1,11).reshape(2,5)"
   ]
  },
  {
   "cell_type": "code",
   "execution_count": 9,
   "id": "048f093b",
   "metadata": {},
   "outputs": [
    {
     "data": {
      "text/plain": [
       "array([1, 3, 5, 7, 9])"
      ]
     },
     "execution_count": 9,
     "metadata": {},
     "output_type": "execute_result"
    }
   ],
   "source": [
    "np.arange(1,11,2)"
   ]
  },
  {
   "cell_type": "code",
   "execution_count": 10,
   "id": "8e14d3d1",
   "metadata": {},
   "outputs": [
    {
     "data": {
      "text/plain": [
       "array([[ 2,  3,  4],\n",
       "       [ 5,  6,  7],\n",
       "       [ 8,  9, 10]])"
      ]
     },
     "execution_count": 10,
     "metadata": {},
     "output_type": "execute_result"
    }
   ],
   "source": [
    "#np.arange(1,11).reshape(5,2)\n",
    "np.arange(2,11).reshape(3,3)\n"
   ]
  },
  {
   "cell_type": "code",
   "execution_count": 11,
   "id": "c2697312",
   "metadata": {},
   "outputs": [
    {
     "data": {
      "text/plain": [
       "array([[ 1,  2],\n",
       "       [ 3,  4],\n",
       "       [ 5,  6],\n",
       "       [ 7,  8],\n",
       "       [ 9, 10],\n",
       "       [11, 12]])"
      ]
     },
     "execution_count": 11,
     "metadata": {},
     "output_type": "execute_result"
    }
   ],
   "source": [
    "np.arange(1,13).reshape(6,2) # 12 total hai so shape bhi usko vaise hie divide krke dena hai\n",
    "#row & column mai e.g 4x3 = 12 orelse 3*4"
   ]
  },
  {
   "cell_type": "markdown",
   "id": "27fdafb0",
   "metadata": {},
   "source": [
    "# np.ones "
   ]
  },
  {
   "cell_type": "code",
   "execution_count": 12,
   "id": "f34320e3",
   "metadata": {},
   "outputs": [
    {
     "data": {
      "text/plain": [
       "array([[1., 1., 1., 1.],\n",
       "       [1., 1., 1., 1.],\n",
       "       [1., 1., 1., 1.]])"
      ]
     },
     "execution_count": 12,
     "metadata": {},
     "output_type": "execute_result"
    }
   ],
   "source": [
    "# np.ones -  bhaut useful hai , yeah use karke on the go numpy array banasakte hai jiske saare items 1 hote hai \n",
    "\n",
    "np.ones((3,4))\n",
    "\n",
    "# Why we use this ? \n",
    "# jaha bhi value initialize  karna hoo vahape hum np.ones use karke direct value initialize karsakte hai sidhe \n",
    "# so vaha pe ese sidhe  value create karskte just by knowing shape .\n"
   ]
  },
  {
   "cell_type": "markdown",
   "id": "cb9637b3",
   "metadata": {},
   "source": [
    "# np.zeros"
   ]
  },
  {
   "cell_type": "code",
   "execution_count": 13,
   "id": "81b87c8f",
   "metadata": {},
   "outputs": [
    {
     "data": {
      "text/plain": [
       "array([[0., 0., 0., 0.],\n",
       "       [0., 0., 0., 0.],\n",
       "       [0., 0., 0., 0.]])"
      ]
     },
     "execution_count": 13,
     "metadata": {},
     "output_type": "execute_result"
    }
   ],
   "source": [
    "np.zeros((3,4))\n",
    "# initialize krneke kaam bhi aata hai yeahbhi "
   ]
  },
  {
   "cell_type": "markdown",
   "id": "cfb8c2d0",
   "metadata": {},
   "source": [
    "# np.random"
   ]
  },
  {
   "cell_type": "code",
   "execution_count": 14,
   "id": "257207ed",
   "metadata": {},
   "outputs": [
    {
     "data": {
      "text/plain": [
       "array([[0.52483851, 0.62871589, 0.480049  , 0.99822048],\n",
       "       [0.80326705, 0.55001554, 0.71503143, 0.03175594],\n",
       "       [0.52142232, 0.62111363, 0.51904006, 0.89191408]])"
      ]
     },
     "execution_count": 14,
     "metadata": {},
     "output_type": "execute_result"
    }
   ],
   "source": [
    "np.random.random((3,4))\n",
    "# Yeah random value fill krke dega or initialize krke dega "
   ]
  },
  {
   "cell_type": "markdown",
   "id": "c11c4c99",
   "metadata": {},
   "source": [
    "## -------------------------------------------------------------------------------------------"
   ]
  },
  {
   "cell_type": "markdown",
   "id": "e6c6c94c",
   "metadata": {},
   "source": [
    "# np.linspace"
   ]
  },
  {
   "cell_type": "code",
   "execution_count": 15,
   "id": "3b073dee",
   "metadata": {},
   "outputs": [
    {
     "data": {
      "text/plain": [
       "array([-9., -7., -5., -3., -1.,  1.,  3.,  5.,  7.,  9.])"
      ]
     },
     "execution_count": 15,
     "metadata": {},
     "output_type": "execute_result"
    }
   ],
   "source": [
    "#np.linspace(start, end ,total number of numbers that you want)\n",
    "#E.g\n",
    "np.linspace(-9,9,10)\n",
    "\n",
    "# Linspace hamesha Equal distance pe saare point generate karta hai e.g output tum dekh sakte hoo. (Linear separable point generate karta hai in given range e.g plot mai use karskte flow dikhaneko )"
   ]
  },
  {
   "cell_type": "markdown",
   "id": "fe0e391f",
   "metadata": {},
   "source": [
    "#  np.identity - ( Identity Matrix- Identity matrix esa matrix hota hai jiske diagonal 1 hote hai & saare item zero hote hai  )"
   ]
  },
  {
   "cell_type": "code",
   "execution_count": 16,
   "id": "fcaab26f",
   "metadata": {},
   "outputs": [
    {
     "data": {
      "text/plain": [
       "array([[1., 0., 0.],\n",
       "       [0., 1., 0.],\n",
       "       [0., 0., 1.]])"
      ]
     },
     "execution_count": 16,
     "metadata": {},
     "output_type": "execute_result"
    }
   ],
   "source": [
    "np.identity(3)"
   ]
  },
  {
   "cell_type": "markdown",
   "id": "7d5f628e",
   "metadata": {},
   "source": [
    "# ---------------------------------------------------------------------------------------------------"
   ]
  },
  {
   "cell_type": "markdown",
   "id": "2187a0a1",
   "metadata": {},
   "source": [
    "# Numpy Array Attributes "
   ]
  },
  {
   "cell_type": "markdown",
   "id": "4e416e08",
   "metadata": {},
   "source": [
    "# ndim - number of dimensions"
   ]
  },
  {
   "cell_type": "code",
   "execution_count": 17,
   "id": "8655e779",
   "metadata": {},
   "outputs": [
    {
     "name": "stdout",
     "output_type": "stream",
     "text": [
      "[0 1 2 3 4 5 6 7 8 9]\n",
      "\n",
      "[[ 0.  1.  2.  3.]\n",
      " [ 4.  5.  6.  7.]\n",
      " [ 8.  9. 10. 11.]]\n",
      "\n",
      "[[[0 1]\n",
      "  [2 3]]\n",
      "\n",
      " [[4 5]\n",
      "  [6 7]]]\n"
     ]
    }
   ],
   "source": [
    "a1 = np.arange(10) # 1d array vector \n",
    "a2= np.arange(12,dtype=float).reshape(3,4) # 2d array matrix\n",
    "a3 = np.arange(8).reshape(2,2,2) #3d tensor\n",
    "\n",
    "print(a1)\n",
    "print()\n",
    "print(a2)\n",
    "print()\n",
    "print(a3)"
   ]
  },
  {
   "cell_type": "code",
   "execution_count": 18,
   "id": "31fd98ef",
   "metadata": {},
   "outputs": [
    {
     "data": {
      "text/plain": [
       "1"
      ]
     },
     "execution_count": 18,
     "metadata": {},
     "output_type": "execute_result"
    }
   ],
   "source": [
    "# ndim - number of dimensions\n",
    "# yeah number of dimension batata hai ndarray ka\n",
    "\n",
    "a1.ndim"
   ]
  },
  {
   "cell_type": "code",
   "execution_count": 19,
   "id": "6c29fb71",
   "metadata": {},
   "outputs": [
    {
     "data": {
      "text/plain": [
       "2"
      ]
     },
     "execution_count": 19,
     "metadata": {},
     "output_type": "execute_result"
    }
   ],
   "source": [
    "a2.ndim # matrix - rows & column"
   ]
  },
  {
   "cell_type": "code",
   "execution_count": 20,
   "id": "47a95087",
   "metadata": {},
   "outputs": [
    {
     "data": {
      "text/plain": [
       "3"
      ]
     },
     "execution_count": 20,
     "metadata": {},
     "output_type": "execute_result"
    }
   ],
   "source": [
    "a3.ndim # as it is 3d array "
   ]
  },
  {
   "cell_type": "markdown",
   "id": "695bda1d",
   "metadata": {},
   "source": [
    "# Shape"
   ]
  },
  {
   "cell_type": "code",
   "execution_count": 21,
   "id": "5db3b62c",
   "metadata": {},
   "outputs": [
    {
     "data": {
      "text/plain": [
       "(10,)"
      ]
     },
     "execution_count": 21,
     "metadata": {},
     "output_type": "execute_result"
    }
   ],
   "source": [
    "# shape :  yeah batata hai ki har dimension mai kitne item hai \n",
    "a1.shape"
   ]
  },
  {
   "cell_type": "code",
   "execution_count": 22,
   "id": "f54b80e7",
   "metadata": {},
   "outputs": [
    {
     "data": {
      "text/plain": [
       "(3, 4)"
      ]
     },
     "execution_count": 22,
     "metadata": {},
     "output_type": "execute_result"
    }
   ],
   "source": [
    "a2.shape # 3 rows & 4 columns"
   ]
  },
  {
   "cell_type": "code",
   "execution_count": 23,
   "id": "38408328",
   "metadata": {},
   "outputs": [
    {
     "data": {
      "text/plain": [
       "(2, 2, 2)"
      ]
     },
     "execution_count": 23,
     "metadata": {},
     "output_type": "execute_result"
    }
   ],
   "source": [
    "a3.shape # their are two  2d array of shape 2,2"
   ]
  },
  {
   "cell_type": "markdown",
   "id": "25b3ed35",
   "metadata": {},
   "source": [
    "# size - yeah batata hai ki number of size kitna hai ."
   ]
  },
  {
   "cell_type": "code",
   "execution_count": 24,
   "id": "0365b7ee",
   "metadata": {},
   "outputs": [
    {
     "data": {
      "text/plain": [
       "10"
      ]
     },
     "execution_count": 24,
     "metadata": {},
     "output_type": "execute_result"
    }
   ],
   "source": [
    "a1.size"
   ]
  },
  {
   "cell_type": "code",
   "execution_count": 25,
   "id": "8fef31c0",
   "metadata": {},
   "outputs": [
    {
     "data": {
      "text/plain": [
       "12"
      ]
     },
     "execution_count": 25,
     "metadata": {},
     "output_type": "execute_result"
    }
   ],
   "source": [
    "a2.size"
   ]
  },
  {
   "cell_type": "code",
   "execution_count": 26,
   "id": "280b361d",
   "metadata": {},
   "outputs": [
    {
     "data": {
      "text/plain": [
       "8"
      ]
     },
     "execution_count": 26,
     "metadata": {},
     "output_type": "execute_result"
    }
   ],
   "source": [
    "a3.size"
   ]
  },
  {
   "cell_type": "markdown",
   "id": "2f80643a",
   "metadata": {},
   "source": [
    "# itemsize - item size yeah batata hai ki memory mai kitna size occupy krrha hai\n",
    "# basically Byte return karta hai yeah ( 8 bits = 1 byte ) "
   ]
  },
  {
   "cell_type": "code",
   "execution_count": 27,
   "id": "f6ee926f",
   "metadata": {},
   "outputs": [
    {
     "data": {
      "text/plain": [
       "4"
      ]
     },
     "execution_count": 27,
     "metadata": {},
     "output_type": "execute_result"
    }
   ],
   "source": [
    "a1.itemsize"
   ]
  },
  {
   "cell_type": "code",
   "execution_count": 28,
   "id": "ceded3de",
   "metadata": {},
   "outputs": [
    {
     "data": {
      "text/plain": [
       "8"
      ]
     },
     "execution_count": 28,
     "metadata": {},
     "output_type": "execute_result"
    }
   ],
   "source": [
    "a2.itemsize"
   ]
  },
  {
   "cell_type": "code",
   "execution_count": 29,
   "id": "ecf22d7d",
   "metadata": {},
   "outputs": [
    {
     "data": {
      "text/plain": [
       "4"
      ]
     },
     "execution_count": 29,
     "metadata": {},
     "output_type": "execute_result"
    }
   ],
   "source": [
    "a3.itemsize"
   ]
  },
  {
   "cell_type": "markdown",
   "id": "52e7a080",
   "metadata": {},
   "source": [
    "# changing datatype "
   ]
  },
  {
   "cell_type": "code",
   "execution_count": 30,
   "id": "596a0f36",
   "metadata": {},
   "outputs": [
    {
     "data": {
      "text/plain": [
       "dtype('int32')"
      ]
     },
     "execution_count": 30,
     "metadata": {},
     "output_type": "execute_result"
    }
   ],
   "source": [
    "# data type change bhi krskte hum kisi numpy ka \n",
    "# E.g future mai data type aaya smjho tou uska data type chutya jaisa hoo tou isliye \n",
    "# data type change krke hum memonry save karsakte hai \n",
    "# fir dataset kamm memory khaata hai \n",
    "a3.dtype"
   ]
  },
  {
   "cell_type": "code",
   "execution_count": 31,
   "id": "ecae17b0",
   "metadata": {},
   "outputs": [
    {
     "data": {
      "text/plain": [
       "array([[[0, 1],\n",
       "        [2, 3]],\n",
       "\n",
       "       [[4, 5],\n",
       "        [6, 7]]], dtype=int64)"
      ]
     },
     "execution_count": 31,
     "metadata": {},
     "output_type": "execute_result"
    }
   ],
   "source": [
    "a3.astype(np.int64)"
   ]
  },
  {
   "cell_type": "markdown",
   "id": "bac15abc",
   "metadata": {},
   "source": [
    "# Array Operations "
   ]
  },
  {
   "cell_type": "markdown",
   "id": "87944424",
   "metadata": {},
   "source": [
    "### almost har type ka mathematical operations support karta hai numpy "
   ]
  },
  {
   "cell_type": "code",
   "execution_count": 32,
   "id": "b9efba17",
   "metadata": {},
   "outputs": [
    {
     "data": {
      "text/plain": [
       "array([[ 0,  1,  2,  3],\n",
       "       [ 4,  5,  6,  7],\n",
       "       [ 8,  9, 10, 11]])"
      ]
     },
     "execution_count": 32,
     "metadata": {},
     "output_type": "execute_result"
    }
   ],
   "source": [
    "a1 = np.arange(12).reshape(3,4)\n",
    "a2 = np.arange(12,24).reshape(3,4)\n",
    "a1\n"
   ]
  },
  {
   "cell_type": "markdown",
   "id": "35894f44",
   "metadata": {},
   "source": [
    "## Scalar Operation & Vector Operations"
   ]
  },
  {
   "cell_type": "markdown",
   "id": "b004bb62",
   "metadata": {},
   "source": [
    "### Scalar mai 1 single numpy array ko 1 single number se operation krte ho E.g \n",
    "### Arithmetic : "
   ]
  },
  {
   "cell_type": "code",
   "execution_count": 33,
   "id": "a1b20272",
   "metadata": {},
   "outputs": [
    {
     "data": {
      "text/plain": [
       "array([[ 0,  2,  4,  6],\n",
       "       [ 8, 10, 12, 14],\n",
       "       [16, 18, 20, 22]])"
      ]
     },
     "execution_count": 33,
     "metadata": {},
     "output_type": "execute_result"
    }
   ],
   "source": [
    "# Multiplication\n",
    "\n",
    "a1*2 # sbh item 2 se multiply hojayenge "
   ]
  },
  {
   "cell_type": "code",
   "execution_count": 34,
   "id": "8a6855d8",
   "metadata": {},
   "outputs": [
    {
     "data": {
      "text/plain": [
       "array([[ 2,  3,  4,  5],\n",
       "       [ 6,  7,  8,  9],\n",
       "       [10, 11, 12, 13]])"
      ]
     },
     "execution_count": 34,
     "metadata": {},
     "output_type": "execute_result"
    }
   ],
   "source": [
    "# Addition\n",
    "a1+2"
   ]
  },
  {
   "cell_type": "code",
   "execution_count": 35,
   "id": "bb913bc1",
   "metadata": {},
   "outputs": [
    {
     "data": {
      "text/plain": [
       "array([[-2, -1,  0,  1],\n",
       "       [ 2,  3,  4,  5],\n",
       "       [ 6,  7,  8,  9]])"
      ]
     },
     "execution_count": 35,
     "metadata": {},
     "output_type": "execute_result"
    }
   ],
   "source": [
    "# Subtraction \n",
    "a1-2"
   ]
  },
  {
   "cell_type": "code",
   "execution_count": 36,
   "id": "3ede8b92",
   "metadata": {},
   "outputs": [
    {
     "data": {
      "text/plain": [
       "array([[  0,   1,   4,   9],\n",
       "       [ 16,  25,  36,  49],\n",
       "       [ 64,  81, 100, 121]], dtype=int32)"
      ]
     },
     "execution_count": 36,
     "metadata": {},
     "output_type": "execute_result"
    }
   ],
   "source": [
    "a1**2"
   ]
  },
  {
   "cell_type": "markdown",
   "id": "6dde7318",
   "metadata": {},
   "source": [
    "### Relational:"
   ]
  },
  {
   "cell_type": "code",
   "execution_count": 37,
   "id": "7b54a0b3",
   "metadata": {},
   "outputs": [
    {
     "data": {
      "text/plain": [
       "array([[ True,  True,  True,  True],\n",
       "       [ True,  True,  True,  True],\n",
       "       [ True,  True,  True,  True]])"
      ]
     },
     "execution_count": 37,
     "metadata": {},
     "output_type": "execute_result"
    }
   ],
   "source": [
    "a2 > 5 "
   ]
  },
  {
   "cell_type": "code",
   "execution_count": 38,
   "id": "143b5313",
   "metadata": {},
   "outputs": [
    {
     "data": {
      "text/plain": [
       "array([[False, False, False, False],\n",
       "       [False, False,  True,  True],\n",
       "       [ True,  True,  True,  True]])"
      ]
     },
     "execution_count": 38,
     "metadata": {},
     "output_type": "execute_result"
    }
   ],
   "source": [
    "a1 >5"
   ]
  },
  {
   "cell_type": "code",
   "execution_count": 39,
   "id": "6b798c77",
   "metadata": {},
   "outputs": [
    {
     "data": {
      "text/plain": [
       "array([[ True,  True,  True,  True],\n",
       "       [ True, False, False, False],\n",
       "       [False, False, False, False]])"
      ]
     },
     "execution_count": 39,
     "metadata": {},
     "output_type": "execute_result"
    }
   ],
   "source": [
    "a1 <5 "
   ]
  },
  {
   "cell_type": "code",
   "execution_count": 40,
   "id": "3a24f8b3",
   "metadata": {},
   "outputs": [
    {
     "data": {
      "text/plain": [
       "array([[False, False, False,  True],\n",
       "       [False, False, False, False],\n",
       "       [False, False, False, False]])"
      ]
     },
     "execution_count": 40,
     "metadata": {},
     "output_type": "execute_result"
    }
   ],
   "source": [
    "a2 == 15"
   ]
  },
  {
   "cell_type": "markdown",
   "id": "e0f91925",
   "metadata": {},
   "source": [
    "## Vector Operations "
   ]
  },
  {
   "cell_type": "code",
   "execution_count": 41,
   "id": "0b6170d3",
   "metadata": {},
   "outputs": [
    {
     "data": {
      "text/plain": [
       "array([[12, 14, 16, 18],\n",
       "       [20, 22, 24, 26],\n",
       "       [28, 30, 32, 34]])"
      ]
     },
     "execution_count": 41,
     "metadata": {},
     "output_type": "execute_result"
    }
   ],
   "source": [
    "# vector mai add krdenge hum 2 same shape vale array ko \n",
    "a1+a2"
   ]
  },
  {
   "cell_type": "code",
   "execution_count": 42,
   "id": "1e451bff",
   "metadata": {},
   "outputs": [
    {
     "data": {
      "text/plain": [
       "array([[  0,  13,  28,  45],\n",
       "       [ 64,  85, 108, 133],\n",
       "       [160, 189, 220, 253]])"
      ]
     },
     "execution_count": 42,
     "metadata": {},
     "output_type": "execute_result"
    }
   ],
   "source": [
    "a1*a2"
   ]
  },
  {
   "cell_type": "code",
   "execution_count": 43,
   "id": "6e27f27e",
   "metadata": {},
   "outputs": [
    {
     "data": {
      "text/plain": [
       "array([[-12, -12, -12, -12],\n",
       "       [-12, -12, -12, -12],\n",
       "       [-12, -12, -12, -12]])"
      ]
     },
     "execution_count": 43,
     "metadata": {},
     "output_type": "execute_result"
    }
   ],
   "source": [
    "a1-a2"
   ]
  },
  {
   "cell_type": "code",
   "execution_count": null,
   "id": "374d432a",
   "metadata": {},
   "outputs": [],
   "source": []
  },
  {
   "cell_type": "markdown",
   "id": "305c347c",
   "metadata": {},
   "source": [
    "##  Numpy Array Function - har mathmatical operation keliye ek function rahega "
   ]
  },
  {
   "cell_type": "code",
   "execution_count": 44,
   "id": "7bef991e",
   "metadata": {},
   "outputs": [
    {
     "data": {
      "text/plain": [
       "array([[43., 34., 24.],\n",
       "       [44., 33., 18.],\n",
       "       [20.,  3., 46.]])"
      ]
     },
     "execution_count": 44,
     "metadata": {},
     "output_type": "execute_result"
    }
   ],
   "source": [
    "a1 = np.random.random((3,3))\n",
    "a1 = np.round(a1*100)\n",
    "a1"
   ]
  },
  {
   "cell_type": "markdown",
   "id": "16dfc321",
   "metadata": {},
   "source": [
    "## Max, Min , Sum , Product "
   ]
  },
  {
   "cell_type": "code",
   "execution_count": 45,
   "id": "d5ba9cee",
   "metadata": {},
   "outputs": [
    {
     "data": {
      "text/plain": [
       "46.0"
      ]
     },
     "execution_count": 45,
     "metadata": {},
     "output_type": "execute_result"
    }
   ],
   "source": [
    "np.max(a1)"
   ]
  },
  {
   "cell_type": "code",
   "execution_count": 46,
   "id": "1b3b258c",
   "metadata": {},
   "outputs": [
    {
     "data": {
      "text/plain": [
       "3.0"
      ]
     },
     "execution_count": 46,
     "metadata": {},
     "output_type": "execute_result"
    }
   ],
   "source": [
    "np.min(a1)"
   ]
  },
  {
   "cell_type": "code",
   "execution_count": 47,
   "id": "5f788c8a",
   "metadata": {},
   "outputs": [
    {
     "data": {
      "text/plain": [
       "265.0"
      ]
     },
     "execution_count": 47,
     "metadata": {},
     "output_type": "execute_result"
    }
   ],
   "source": [
    "np.sum(a1) # sum of whole item"
   ]
  },
  {
   "cell_type": "code",
   "execution_count": 48,
   "id": "b9a45ab9",
   "metadata": {},
   "outputs": [
    {
     "data": {
      "text/plain": [
       "2531085511680.0"
      ]
     },
     "execution_count": 48,
     "metadata": {},
     "output_type": "execute_result"
    }
   ],
   "source": [
    "np.prod(a1) # multiplication of whole "
   ]
  },
  {
   "cell_type": "markdown",
   "id": "19ac4e56",
   "metadata": {},
   "source": [
    "###   if you wanna know minimum item from the single row of array then do this \n",
    "### 0 - Ka matlab column & \n",
    "### 1 - ka mtlb row  "
   ]
  },
  {
   "cell_type": "code",
   "execution_count": 49,
   "id": "a42f58ee",
   "metadata": {},
   "outputs": [
    {
     "data": {
      "text/plain": [
       "array([43., 44., 46.])"
      ]
     },
     "execution_count": 49,
     "metadata": {},
     "output_type": "execute_result"
    }
   ],
   "source": [
    "# if you wanna know minimum item from the single row of array then do this \n",
    "# 0 - Ka matlab column & \n",
    "# 1 ka mtlb row \n",
    "np.max(a1,axis=1) # maximum value har row ka bataraha"
   ]
  },
  {
   "cell_type": "code",
   "execution_count": 50,
   "id": "e480b0f6",
   "metadata": {},
   "outputs": [
    {
     "data": {
      "text/plain": [
       "array([44., 34., 46.])"
      ]
     },
     "execution_count": 50,
     "metadata": {},
     "output_type": "execute_result"
    }
   ],
   "source": [
    "np.max(a1,axis=0) # maximum value yeah har column ka bataraha "
   ]
  },
  {
   "cell_type": "code",
   "execution_count": 51,
   "id": "d52be88d",
   "metadata": {},
   "outputs": [
    {
     "data": {
      "text/plain": [
       "array([24., 18.,  3.])"
      ]
     },
     "execution_count": 51,
     "metadata": {},
     "output_type": "execute_result"
    }
   ],
   "source": [
    "np.min(a1,axis=1) # minimum value of every row "
   ]
  },
  {
   "cell_type": "code",
   "execution_count": 52,
   "id": "64dce886",
   "metadata": {},
   "outputs": [
    {
     "data": {
      "text/plain": [
       "array([20.,  3., 18.])"
      ]
     },
     "execution_count": 52,
     "metadata": {},
     "output_type": "execute_result"
    }
   ],
   "source": [
    "np.min(a1,axis=0) # minimum value of every column"
   ]
  },
  {
   "cell_type": "code",
   "execution_count": 53,
   "id": "dee1bf44",
   "metadata": {},
   "outputs": [
    {
     "data": {
      "text/plain": [
       "array([101.,  95.,  69.])"
      ]
     },
     "execution_count": 53,
     "metadata": {},
     "output_type": "execute_result"
    }
   ],
   "source": [
    "np.sum(a1,axis=1) # har row ka sum dega "
   ]
  },
  {
   "cell_type": "code",
   "execution_count": 54,
   "id": "87be0eb4",
   "metadata": {},
   "outputs": [
    {
     "data": {
      "text/plain": [
       "array([107.,  70.,  88.])"
      ]
     },
     "execution_count": 54,
     "metadata": {},
     "output_type": "execute_result"
    }
   ],
   "source": [
    "np.sum(a1,axis=0) # har column ka sum dega "
   ]
  },
  {
   "cell_type": "code",
   "execution_count": 55,
   "id": "d13ffb53",
   "metadata": {},
   "outputs": [
    {
     "data": {
      "text/plain": [
       "array([35088., 26136.,  2760.])"
      ]
     },
     "execution_count": 55,
     "metadata": {},
     "output_type": "execute_result"
    }
   ],
   "source": [
    "np.prod(a1,axis=1) # har row ka multiplication deraha"
   ]
  },
  {
   "cell_type": "code",
   "execution_count": 56,
   "id": "9fc77a9e",
   "metadata": {},
   "outputs": [
    {
     "data": {
      "text/plain": [
       "array([37840.,  3366., 19872.])"
      ]
     },
     "execution_count": 56,
     "metadata": {},
     "output_type": "execute_result"
    }
   ],
   "source": [
    "np.prod(a1,axis=0) # har column ka multiplication deraha"
   ]
  },
  {
   "cell_type": "markdown",
   "id": "bd75ac86",
   "metadata": {},
   "source": [
    "# -----------------------------------------------------------------------------------------------------"
   ]
  },
  {
   "cell_type": "markdown",
   "id": "73acfead",
   "metadata": {},
   "source": [
    "## Statistical Operations "
   ]
  },
  {
   "cell_type": "markdown",
   "id": "45709e5c",
   "metadata": {},
   "source": [
    "### Mean - np.mean()"
   ]
  },
  {
   "cell_type": "code",
   "execution_count": 57,
   "id": "d477b568",
   "metadata": {},
   "outputs": [
    {
     "data": {
      "text/plain": [
       "145.28571428571428"
      ]
     },
     "execution_count": 57,
     "metadata": {},
     "output_type": "execute_result"
    }
   ],
   "source": [
    "a1 = np.array((1,2,3,4,4,4,999))\n",
    "np.mean(a1)"
   ]
  },
  {
   "cell_type": "markdown",
   "id": "37205f54",
   "metadata": {},
   "source": [
    "#### yaha bhi axis = 0 & 1 use krke column & row wise mean nikalata jaaskta hai \n"
   ]
  },
  {
   "cell_type": "markdown",
   "id": "3c4900ce",
   "metadata": {},
   "source": [
    "### Median - np.meadian()"
   ]
  },
  {
   "cell_type": "code",
   "execution_count": 58,
   "id": "665d840b",
   "metadata": {},
   "outputs": [
    {
     "data": {
      "text/plain": [
       "4.0"
      ]
     },
     "execution_count": 58,
     "metadata": {},
     "output_type": "execute_result"
    }
   ],
   "source": [
    "np.median(a1)"
   ]
  },
  {
   "cell_type": "markdown",
   "id": "1e7e5447",
   "metadata": {},
   "source": [
    "### Standard Deviation - np.std()"
   ]
  },
  {
   "cell_type": "code",
   "execution_count": 59,
   "id": "e2861f88",
   "metadata": {},
   "outputs": [
    {
     "data": {
      "text/plain": [
       "348.529037234946"
      ]
     },
     "execution_count": 59,
     "metadata": {},
     "output_type": "execute_result"
    }
   ],
   "source": [
    "np.std(a1)"
   ]
  },
  {
   "cell_type": "markdown",
   "id": "99ffec3f",
   "metadata": {},
   "source": [
    "### Variance - np.var() ( Measure of spread to know how much data is spread ) "
   ]
  },
  {
   "cell_type": "code",
   "execution_count": 60,
   "id": "c760004c",
   "metadata": {},
   "outputs": [
    {
     "data": {
      "text/plain": [
       "121472.48979591837"
      ]
     },
     "execution_count": 60,
     "metadata": {},
     "output_type": "execute_result"
    }
   ],
   "source": [
    "np.var(a1)"
   ]
  },
  {
   "cell_type": "markdown",
   "id": "758e457a",
   "metadata": {},
   "source": [
    "### ------------------------ Trignometric Function -----------------------"
   ]
  },
  {
   "cell_type": "code",
   "execution_count": 61,
   "id": "06e5b3ea",
   "metadata": {},
   "outputs": [
    {
     "data": {
      "text/plain": [
       "array([ 0.84147098,  0.90929743,  0.14112001, -0.7568025 , -0.7568025 ,\n",
       "       -0.7568025 , -0.02646075])"
      ]
     },
     "execution_count": 61,
     "metadata": {},
     "output_type": "execute_result"
    }
   ],
   "source": [
    "np.sin(a1)"
   ]
  },
  {
   "cell_type": "code",
   "execution_count": 62,
   "id": "939d4ba5",
   "metadata": {},
   "outputs": [
    {
     "data": {
      "text/plain": [
       "array([ 0.54030231, -0.41614684, -0.9899925 , -0.65364362, -0.65364362,\n",
       "       -0.65364362,  0.99964985])"
      ]
     },
     "execution_count": 62,
     "metadata": {},
     "output_type": "execute_result"
    }
   ],
   "source": [
    "np.cos(a1)"
   ]
  },
  {
   "cell_type": "code",
   "execution_count": 63,
   "id": "7008c95d",
   "metadata": {},
   "outputs": [
    {
     "data": {
      "text/plain": [
       "array([ 1.55740772, -2.18503986, -0.14254654,  1.15782128,  1.15782128,\n",
       "        1.15782128, -0.02647002])"
      ]
     },
     "execution_count": 63,
     "metadata": {},
     "output_type": "execute_result"
    }
   ],
   "source": [
    "np.tan(a1)"
   ]
  },
  {
   "cell_type": "markdown",
   "id": "3ee00e83",
   "metadata": {},
   "source": [
    "### ------------------------------------------ np.dot() - Dot Product yeah Usefull hai -------------------------------------"
   ]
  },
  {
   "cell_type": "markdown",
   "id": "c2ba6dcc",
   "metadata": {},
   "source": [
    "### 2 matrixes ke beech ka dot product nikalte hai \n",
    "### Eg.\n",
    "### Ek ka  matrix hai 3,4 & ek ka matrix hai 4,3  so we will check ki dono same hai ki nahi ?\n",
    "### agar yeah same hai tou result aayega 3,3 \n",
    "\n",
    "### Dot product mai 1st matrix ka column & 2nd matrix ka row same raha tbhi Dot Product hogga \n",
    "### & fir result mai 1st matrix ka row & 2nd matrix ka colum aayega "
   ]
  },
  {
   "cell_type": "code",
   "execution_count": 64,
   "id": "952bb751",
   "metadata": {},
   "outputs": [
    {
     "data": {
      "text/plain": [
       "array([[114, 120, 126],\n",
       "       [378, 400, 422],\n",
       "       [642, 680, 718]])"
      ]
     },
     "execution_count": 64,
     "metadata": {},
     "output_type": "execute_result"
    }
   ],
   "source": [
    "# E.g \n",
    "\n",
    "a1 = np.arange(12).reshape(3,4)\n",
    "a2 = np.arange(12,24).reshape(4,3)\n",
    "\n",
    "np.dot(a1,a2)"
   ]
  },
  {
   "cell_type": "markdown",
   "id": "385baba2",
   "metadata": {},
   "source": [
    "### Log & Exponents "
   ]
  },
  {
   "cell_type": "code",
   "execution_count": 65,
   "id": "3434496c",
   "metadata": {},
   "outputs": [
    {
     "data": {
      "text/plain": [
       "array([[2.48490665, 2.56494936, 2.63905733],\n",
       "       [2.7080502 , 2.77258872, 2.83321334],\n",
       "       [2.89037176, 2.94443898, 2.99573227],\n",
       "       [3.04452244, 3.09104245, 3.13549422]])"
      ]
     },
     "execution_count": 65,
     "metadata": {},
     "output_type": "execute_result"
    }
   ],
   "source": [
    "np.log(a2)"
   ]
  },
  {
   "cell_type": "code",
   "execution_count": 66,
   "id": "41d51c40",
   "metadata": {},
   "outputs": [
    {
     "data": {
      "text/plain": [
       "array([[1.00000000e+00, 2.71828183e+00, 7.38905610e+00, 2.00855369e+01],\n",
       "       [5.45981500e+01, 1.48413159e+02, 4.03428793e+02, 1.09663316e+03],\n",
       "       [2.98095799e+03, 8.10308393e+03, 2.20264658e+04, 5.98741417e+04]])"
      ]
     },
     "execution_count": 66,
     "metadata": {},
     "output_type": "execute_result"
    }
   ],
   "source": [
    "np.exp(a1)"
   ]
  },
  {
   "cell_type": "code",
   "execution_count": null,
   "id": "56d03fe4",
   "metadata": {},
   "outputs": [],
   "source": []
  },
  {
   "cell_type": "markdown",
   "id": "65bae186",
   "metadata": {},
   "source": [
    "## Round / Floor / Ceil "
   ]
  },
  {
   "cell_type": "markdown",
   "id": "dc68b941",
   "metadata": {},
   "source": [
    "### Round : Nearest Integer pe round off karta hai usko exact maanleta hai "
   ]
  },
  {
   "cell_type": "code",
   "execution_count": 67,
   "id": "51fb1387",
   "metadata": {},
   "outputs": [
    {
     "data": {
      "text/plain": [
       "array([[12., 93., 23.],\n",
       "       [ 3., 58., 12.]])"
      ]
     },
     "execution_count": 67,
     "metadata": {},
     "output_type": "execute_result"
    }
   ],
   "source": [
    "np.round(np.random.random((2,3))*100)"
   ]
  },
  {
   "cell_type": "markdown",
   "id": "00fb5040",
   "metadata": {},
   "source": [
    "### Floor: peeche vale values provide krta hai aageh vale nahi  E.g 9.9 hai tou yeah 9 dega"
   ]
  },
  {
   "cell_type": "code",
   "execution_count": 68,
   "id": "7ad5f688",
   "metadata": {},
   "outputs": [
    {
     "data": {
      "text/plain": [
       "array([[78., 73., 84.],\n",
       "       [87., 76., 68.]])"
      ]
     },
     "execution_count": 68,
     "metadata": {},
     "output_type": "execute_result"
    }
   ],
   "source": [
    "np.floor(np.random.random((2,3))*100)"
   ]
  },
  {
   "cell_type": "markdown",
   "id": "aac724b6",
   "metadata": {},
   "source": [
    "### Ceil:  Ceil aageh value integer deta hai e.g 9.7 hai tou output 10 dega "
   ]
  },
  {
   "cell_type": "code",
   "execution_count": 69,
   "id": "1b03e95b",
   "metadata": {},
   "outputs": [
    {
     "data": {
      "text/plain": [
       "array([[27., 39., 59.],\n",
       "       [37., 47.,  8.]])"
      ]
     },
     "execution_count": 69,
     "metadata": {},
     "output_type": "execute_result"
    }
   ],
   "source": [
    "np.floor(np.random.random((2,3))*100)"
   ]
  },
  {
   "cell_type": "markdown",
   "id": "cc0bff6b",
   "metadata": {},
   "source": [
    "## Indexing & Slicing "
   ]
  },
  {
   "cell_type": "code",
   "execution_count": 70,
   "id": "95d783fa",
   "metadata": {},
   "outputs": [
    {
     "data": {
      "text/plain": [
       "array([[ 0,  1,  2,  3],\n",
       "       [ 4,  5,  6,  7],\n",
       "       [ 8,  9, 10, 11]])"
      ]
     },
     "execution_count": 70,
     "metadata": {},
     "output_type": "execute_result"
    }
   ],
   "source": [
    "a1 = np.arange(10)\n",
    "a2 = np.arange(12).reshape(3,4)\n",
    "a3 = np.arange(27).reshape(3,3,3)\n",
    "\n",
    "a2"
   ]
  },
  {
   "cell_type": "code",
   "execution_count": 71,
   "id": "2c474e54",
   "metadata": {},
   "outputs": [
    {
     "data": {
      "text/plain": [
       "0"
      ]
     },
     "execution_count": 71,
     "metadata": {},
     "output_type": "execute_result"
    }
   ],
   "source": [
    "a1[0]"
   ]
  },
  {
   "cell_type": "code",
   "execution_count": 72,
   "id": "f7384375",
   "metadata": {},
   "outputs": [
    {
     "data": {
      "text/plain": [
       "7"
      ]
     },
     "execution_count": 72,
     "metadata": {},
     "output_type": "execute_result"
    }
   ],
   "source": [
    "a2[1,3] # accesing 1st row  3rd column element"
   ]
  },
  {
   "cell_type": "code",
   "execution_count": 73,
   "id": "3fda0e23",
   "metadata": {},
   "outputs": [
    {
     "data": {
      "text/plain": [
       "array([[[ 0,  1,  2],\n",
       "        [ 3,  4,  5],\n",
       "        [ 6,  7,  8]],\n",
       "\n",
       "       [[ 9, 10, 11],\n",
       "        [12, 13, 14],\n",
       "        [15, 16, 17]],\n",
       "\n",
       "       [[18, 19, 20],\n",
       "        [21, 22, 23],\n",
       "        [24, 25, 26]]])"
      ]
     },
     "execution_count": 73,
     "metadata": {},
     "output_type": "execute_result"
    }
   ],
   "source": [
    "a3"
   ]
  },
  {
   "cell_type": "code",
   "execution_count": 74,
   "id": "2c5381b0",
   "metadata": {},
   "outputs": [
    {
     "data": {
      "text/plain": [
       "10"
      ]
     },
     "execution_count": 74,
     "metadata": {},
     "output_type": "execute_result"
    }
   ],
   "source": [
    "a3[1,0,1] # 1st index array then 0th row 1st index"
   ]
  },
  {
   "cell_type": "code",
   "execution_count": 75,
   "id": "86bbe0ab",
   "metadata": {},
   "outputs": [
    {
     "data": {
      "text/plain": [
       "3"
      ]
     },
     "execution_count": 75,
     "metadata": {},
     "output_type": "execute_result"
    }
   ],
   "source": [
    "a3[0,1,0] # 0th index array in that 1st index row & oth column index "
   ]
  },
  {
   "cell_type": "code",
   "execution_count": 76,
   "id": "68717497",
   "metadata": {},
   "outputs": [
    {
     "data": {
      "text/plain": [
       "0"
      ]
     },
     "execution_count": 76,
     "metadata": {},
     "output_type": "execute_result"
    }
   ],
   "source": [
    "a3[0,0,0]"
   ]
  },
  {
   "cell_type": "code",
   "execution_count": 77,
   "id": "c1126798",
   "metadata": {},
   "outputs": [
    {
     "data": {
      "text/plain": [
       "12"
      ]
     },
     "execution_count": 77,
     "metadata": {},
     "output_type": "execute_result"
    }
   ],
   "source": [
    "a3[1,1,0]"
   ]
  },
  {
   "cell_type": "markdown",
   "id": "74e0763e",
   "metadata": {},
   "source": [
    "## Slicing "
   ]
  },
  {
   "cell_type": "code",
   "execution_count": 78,
   "id": "0223b1d3",
   "metadata": {},
   "outputs": [
    {
     "data": {
      "text/plain": [
       "array([0, 1, 2, 3, 4, 5, 6, 7, 8, 9])"
      ]
     },
     "execution_count": 78,
     "metadata": {},
     "output_type": "execute_result"
    }
   ],
   "source": [
    "a1"
   ]
  },
  {
   "cell_type": "code",
   "execution_count": 79,
   "id": "91485112",
   "metadata": {},
   "outputs": [
    {
     "data": {
      "text/plain": [
       "array([2, 3, 4])"
      ]
     },
     "execution_count": 79,
     "metadata": {},
     "output_type": "execute_result"
    }
   ],
   "source": [
    "a1[2:5]"
   ]
  },
  {
   "cell_type": "code",
   "execution_count": 80,
   "id": "274f43e3",
   "metadata": {},
   "outputs": [
    {
     "data": {
      "text/plain": [
       "array([2, 3, 4, 5, 6, 7, 8, 9])"
      ]
     },
     "execution_count": 80,
     "metadata": {},
     "output_type": "execute_result"
    }
   ],
   "source": [
    "a1[2:]"
   ]
  },
  {
   "cell_type": "code",
   "execution_count": 81,
   "id": "1f540e7c",
   "metadata": {},
   "outputs": [
    {
     "data": {
      "text/plain": [
       "array([[ 0,  1,  2,  3],\n",
       "       [ 4,  5,  6,  7],\n",
       "       [ 8,  9, 10, 11]])"
      ]
     },
     "execution_count": 81,
     "metadata": {},
     "output_type": "execute_result"
    }
   ],
   "source": [
    "a2"
   ]
  },
  {
   "cell_type": "code",
   "execution_count": 82,
   "id": "318a910e",
   "metadata": {},
   "outputs": [
    {
     "data": {
      "text/plain": [
       "array([0, 1, 2, 3])"
      ]
     },
     "execution_count": 82,
     "metadata": {},
     "output_type": "execute_result"
    }
   ],
   "source": [
    "a2[0]"
   ]
  },
  {
   "cell_type": "code",
   "execution_count": 83,
   "id": "eacc686f",
   "metadata": {},
   "outputs": [
    {
     "data": {
      "text/plain": [
       "array([0, 1, 2, 3])"
      ]
     },
     "execution_count": 83,
     "metadata": {},
     "output_type": "execute_result"
    }
   ],
   "source": [
    "a2[0,:]"
   ]
  },
  {
   "cell_type": "code",
   "execution_count": 84,
   "id": "555eed47",
   "metadata": {},
   "outputs": [
    {
     "data": {
      "text/plain": [
       "array([ 2,  6, 10])"
      ]
     },
     "execution_count": 84,
     "metadata": {},
     "output_type": "execute_result"
    }
   ],
   "source": [
    "a2[:,2]"
   ]
  },
  {
   "cell_type": "code",
   "execution_count": 85,
   "id": "38110b6d",
   "metadata": {},
   "outputs": [
    {
     "data": {
      "text/plain": [
       "array([[ 5,  6],\n",
       "       [ 9, 10]])"
      ]
     },
     "execution_count": 85,
     "metadata": {},
     "output_type": "execute_result"
    }
   ],
   "source": [
    "# 5,6 ,9,10 in a2 access that \n",
    "\n",
    "a2[1:,1:3]"
   ]
  },
  {
   "cell_type": "code",
   "execution_count": 86,
   "id": "32f0e437",
   "metadata": {},
   "outputs": [
    {
     "data": {
      "text/plain": [
       "array([[ 0,  3],\n",
       "       [ 8, 11]])"
      ]
     },
     "execution_count": 86,
     "metadata": {},
     "output_type": "execute_result"
    }
   ],
   "source": [
    "# 0,3,8,11 access that in a2\n",
    "a2[::2,::3]"
   ]
  },
  {
   "cell_type": "code",
   "execution_count": 87,
   "id": "51c945e0",
   "metadata": {},
   "outputs": [
    {
     "data": {
      "text/plain": [
       "array([[ 1,  3],\n",
       "       [ 9, 11]])"
      ]
     },
     "execution_count": 87,
     "metadata": {},
     "output_type": "execute_result"
    }
   ],
   "source": [
    "# 1,3,9,11 access that in a2\n",
    "a2[::2,1::2]"
   ]
  },
  {
   "cell_type": "code",
   "execution_count": 88,
   "id": "a3e0aee5",
   "metadata": {},
   "outputs": [
    {
     "data": {
      "text/plain": [
       "array([[[ 0,  1,  2],\n",
       "        [ 3,  4,  5],\n",
       "        [ 6,  7,  8]],\n",
       "\n",
       "       [[ 9, 10, 11],\n",
       "        [12, 13, 14],\n",
       "        [15, 16, 17]],\n",
       "\n",
       "       [[18, 19, 20],\n",
       "        [21, 22, 23],\n",
       "        [24, 25, 26]]])"
      ]
     },
     "execution_count": 88,
     "metadata": {},
     "output_type": "execute_result"
    }
   ],
   "source": [
    "# now accessing 3d array\n",
    "# row , row, column\n",
    "a3"
   ]
  },
  {
   "cell_type": "code",
   "execution_count": 89,
   "id": "454a78bb",
   "metadata": {},
   "outputs": [
    {
     "data": {
      "text/plain": [
       "array([[ 9, 10, 11],\n",
       "       [12, 13, 14],\n",
       "       [15, 16, 17]])"
      ]
     },
     "execution_count": 89,
     "metadata": {},
     "output_type": "execute_result"
    }
   ],
   "source": [
    "a3[1]"
   ]
  },
  {
   "cell_type": "code",
   "execution_count": 90,
   "id": "1ea72325",
   "metadata": {},
   "outputs": [
    {
     "data": {
      "text/plain": [
       "array([[[ 0,  1,  2],\n",
       "        [ 3,  4,  5],\n",
       "        [ 6,  7,  8]],\n",
       "\n",
       "       [[18, 19, 20],\n",
       "        [21, 22, 23],\n",
       "        [24, 25, 26]]])"
      ]
     },
     "execution_count": 90,
     "metadata": {},
     "output_type": "execute_result"
    }
   ],
   "source": [
    "a3[0::2]"
   ]
  },
  {
   "cell_type": "code",
   "execution_count": 95,
   "id": "d0ad9cc5",
   "metadata": {},
   "outputs": [
    {
     "data": {
      "text/plain": [
       "array([3, 4, 5])"
      ]
     },
     "execution_count": 95,
     "metadata": {},
     "output_type": "execute_result"
    }
   ],
   "source": [
    "a3[0,1,:]"
   ]
  },
  {
   "cell_type": "code",
   "execution_count": 99,
   "id": "9c278d3f",
   "metadata": {},
   "outputs": [
    {
     "data": {
      "text/plain": [
       "array([10, 13, 16])"
      ]
     },
     "execution_count": 99,
     "metadata": {},
     "output_type": "execute_result"
    }
   ],
   "source": [
    "#10,13,16\n",
    "a3[1,0:,1]"
   ]
  },
  {
   "cell_type": "code",
   "execution_count": 98,
   "id": "02a940c4",
   "metadata": {},
   "outputs": [
    {
     "data": {
      "text/plain": [
       "array([[22, 23],\n",
       "       [25, 26]])"
      ]
     },
     "execution_count": 98,
     "metadata": {},
     "output_type": "execute_result"
    }
   ],
   "source": [
    "# 22,23,25,26\n",
    "a3[2,1:,1:]"
   ]
  },
  {
   "cell_type": "code",
   "execution_count": 100,
   "id": "26c712c3",
   "metadata": {},
   "outputs": [
    {
     "data": {
      "text/plain": [
       "array([[ 0,  2],\n",
       "       [18, 20]])"
      ]
     },
     "execution_count": 100,
     "metadata": {},
     "output_type": "execute_result"
    }
   ],
   "source": [
    "# 0,2,18,20\n",
    "\n",
    "a3[0::2,0,0::2]\n"
   ]
  },
  {
   "cell_type": "markdown",
   "id": "cdc19df9",
   "metadata": {},
   "source": [
    "## Iterating loop on numpy array"
   ]
  },
  {
   "cell_type": "code",
   "execution_count": 101,
   "id": "75b3f0ea",
   "metadata": {},
   "outputs": [
    {
     "data": {
      "text/plain": [
       "array([0, 1, 2, 3, 4, 5, 6, 7, 8, 9])"
      ]
     },
     "execution_count": 101,
     "metadata": {},
     "output_type": "execute_result"
    }
   ],
   "source": [
    "a1"
   ]
  },
  {
   "cell_type": "code",
   "execution_count": 102,
   "id": "d82a146b",
   "metadata": {},
   "outputs": [
    {
     "data": {
      "text/plain": [
       "array([[ 0,  1,  2,  3],\n",
       "       [ 4,  5,  6,  7],\n",
       "       [ 8,  9, 10, 11]])"
      ]
     },
     "execution_count": 102,
     "metadata": {},
     "output_type": "execute_result"
    }
   ],
   "source": [
    "a2"
   ]
  },
  {
   "cell_type": "code",
   "execution_count": 103,
   "id": "30a07253",
   "metadata": {},
   "outputs": [
    {
     "data": {
      "text/plain": [
       "array([[[ 0,  1,  2],\n",
       "        [ 3,  4,  5],\n",
       "        [ 6,  7,  8]],\n",
       "\n",
       "       [[ 9, 10, 11],\n",
       "        [12, 13, 14],\n",
       "        [15, 16, 17]],\n",
       "\n",
       "       [[18, 19, 20],\n",
       "        [21, 22, 23],\n",
       "        [24, 25, 26]]])"
      ]
     },
     "execution_count": 103,
     "metadata": {},
     "output_type": "execute_result"
    }
   ],
   "source": [
    "a3"
   ]
  },
  {
   "cell_type": "code",
   "execution_count": 104,
   "id": "38a67fcc",
   "metadata": {},
   "outputs": [
    {
     "name": "stdout",
     "output_type": "stream",
     "text": [
      "0\n",
      "1\n",
      "2\n",
      "3\n",
      "4\n",
      "5\n",
      "6\n",
      "7\n",
      "8\n",
      "9\n"
     ]
    }
   ],
   "source": [
    "for i in a1:\n",
    "    print(i)"
   ]
  },
  {
   "cell_type": "code",
   "execution_count": 108,
   "id": "6a2cff58",
   "metadata": {},
   "outputs": [
    {
     "name": "stdout",
     "output_type": "stream",
     "text": [
      "0\n",
      "1\n",
      "2\n",
      "3\n",
      "4\n",
      "5\n",
      "6\n",
      "7\n",
      "8\n",
      "9\n",
      "10\n",
      "11\n"
     ]
    }
   ],
   "source": [
    "# 2d hai so row print hota hai 1 baar mai \n",
    "# np.nditer() ishse 2d & 3d array iterate krskte \n",
    "for i in np.nditer(a2):\n",
    "    print(i)"
   ]
  },
  {
   "cell_type": "code",
   "execution_count": 109,
   "id": "e2b99c4c",
   "metadata": {},
   "outputs": [
    {
     "name": "stdout",
     "output_type": "stream",
     "text": [
      "0\n",
      "1\n",
      "2\n",
      "3\n",
      "4\n",
      "5\n",
      "6\n",
      "7\n",
      "8\n",
      "9\n",
      "10\n",
      "11\n",
      "12\n",
      "13\n",
      "14\n",
      "15\n",
      "16\n",
      "17\n",
      "18\n",
      "19\n",
      "20\n",
      "21\n",
      "22\n",
      "23\n",
      "24\n",
      "25\n",
      "26\n"
     ]
    }
   ],
   "source": [
    "# 3d hai so 2d array print hota hai \n",
    "for i in np.nditer(a3):\n",
    "    print(i)"
   ]
  },
  {
   "cell_type": "markdown",
   "id": "a2da7639",
   "metadata": {},
   "source": [
    "## Reshaping Function "
   ]
  },
  {
   "cell_type": "markdown",
   "id": "d6cabbd3",
   "metadata": {},
   "source": [
    "### Transpose -> row ko column krdeta hai & column ko row kardeta hai  "
   ]
  },
  {
   "cell_type": "code",
   "execution_count": 110,
   "id": "8be9b687",
   "metadata": {},
   "outputs": [
    {
     "data": {
      "text/plain": [
       "array([[ 0,  1,  2,  3],\n",
       "       [ 4,  5,  6,  7],\n",
       "       [ 8,  9, 10, 11]])"
      ]
     },
     "execution_count": 110,
     "metadata": {},
     "output_type": "execute_result"
    }
   ],
   "source": [
    "a2"
   ]
  },
  {
   "cell_type": "code",
   "execution_count": 111,
   "id": "de4956f1",
   "metadata": {},
   "outputs": [
    {
     "data": {
      "text/plain": [
       "array([[ 0,  4,  8],\n",
       "       [ 1,  5,  9],\n",
       "       [ 2,  6, 10],\n",
       "       [ 3,  7, 11]])"
      ]
     },
     "execution_count": 111,
     "metadata": {},
     "output_type": "execute_result"
    }
   ],
   "source": [
    "a2.transpose()"
   ]
  },
  {
   "cell_type": "code",
   "execution_count": 112,
   "id": "7448ba8b",
   "metadata": {
    "scrolled": true
   },
   "outputs": [
    {
     "data": {
      "text/plain": [
       "array([[ 0,  4,  8],\n",
       "       [ 1,  5,  9],\n",
       "       [ 2,  6, 10],\n",
       "       [ 3,  7, 11]])"
      ]
     },
     "execution_count": 112,
     "metadata": {},
     "output_type": "execute_result"
    }
   ],
   "source": [
    "# another syntax \n",
    "np.transpose(a2)"
   ]
  },
  {
   "cell_type": "markdown",
   "id": "a49d68f3",
   "metadata": {},
   "source": [
    "## Ravel - yeah kitne bhi dimension ke array hai usko yeah 1d mai convert kardeta hai "
   ]
  },
  {
   "cell_type": "code",
   "execution_count": 113,
   "id": "0db772de",
   "metadata": {},
   "outputs": [
    {
     "data": {
      "text/plain": [
       "array([ 0,  1,  2,  3,  4,  5,  6,  7,  8,  9, 10, 11])"
      ]
     },
     "execution_count": 113,
     "metadata": {},
     "output_type": "execute_result"
    }
   ],
   "source": [
    "# E.g converting 2d array in 1d array \n",
    "a2.ravel()"
   ]
  },
  {
   "cell_type": "code",
   "execution_count": 114,
   "id": "5dccb0c0",
   "metadata": {},
   "outputs": [
    {
     "data": {
      "text/plain": [
       "array([ 0,  1,  2,  3,  4,  5,  6,  7,  8,  9, 10, 11, 12, 13, 14, 15, 16,\n",
       "       17, 18, 19, 20, 21, 22, 23, 24, 25, 26])"
      ]
     },
     "execution_count": 114,
     "metadata": {},
     "output_type": "execute_result"
    }
   ],
   "source": [
    "# E.g converting 2d array in 1d array \n",
    "a3.ravel()"
   ]
  },
  {
   "cell_type": "markdown",
   "id": "fef92a24",
   "metadata": {},
   "source": [
    "# Stacking \n",
    "iska matlab 2 ya 2 se zyaada numpy arrays ko nhum stackup krskte mtlb jodd sakte hai \n",
    "iska shape hamesha same hona chaye \n",
    "### use: kahi baar esa hoga ki multiple data source honge e.g  3 jageh se data aarha hai  api se , database se , & ### web scrapping  teeno data similar hai  so humme teeno ko milake analysis krna hoga tou  humm vaha pe stack ### use krke jodd skte sbh data ko  ( Multiple datasources ko joddneka tarika hai ) "
   ]
  },
  {
   "cell_type": "markdown",
   "id": "b35d13a4",
   "metadata": {},
   "source": [
    "## Horizontal Stacking - yeah aaju baju joddta hai "
   ]
  },
  {
   "cell_type": "code",
   "execution_count": 116,
   "id": "76f7c366",
   "metadata": {},
   "outputs": [],
   "source": [
    "a4 = np.arange(12).reshape(3,4)\n",
    "a5 = np.arange(12,24).reshape(3,4)"
   ]
  },
  {
   "cell_type": "code",
   "execution_count": 117,
   "id": "70fca90b",
   "metadata": {},
   "outputs": [
    {
     "data": {
      "text/plain": [
       "array([[ 0,  1,  2,  3],\n",
       "       [ 4,  5,  6,  7],\n",
       "       [ 8,  9, 10, 11]])"
      ]
     },
     "execution_count": 117,
     "metadata": {},
     "output_type": "execute_result"
    }
   ],
   "source": [
    "a4"
   ]
  },
  {
   "cell_type": "code",
   "execution_count": 118,
   "id": "c44fee1e",
   "metadata": {},
   "outputs": [
    {
     "data": {
      "text/plain": [
       "array([[12, 13, 14, 15],\n",
       "       [16, 17, 18, 19],\n",
       "       [20, 21, 22, 23]])"
      ]
     },
     "execution_count": 118,
     "metadata": {},
     "output_type": "execute_result"
    }
   ],
   "source": [
    "a5"
   ]
  },
  {
   "cell_type": "code",
   "execution_count": 123,
   "id": "c8a995b5",
   "metadata": {},
   "outputs": [
    {
     "data": {
      "text/plain": [
       "array([[ 0,  1,  2,  3, 12, 13, 14, 15],\n",
       "       [ 4,  5,  6,  7, 16, 17, 18, 19],\n",
       "       [ 8,  9, 10, 11, 20, 21, 22, 23]])"
      ]
     },
     "execution_count": 123,
     "metadata": {},
     "output_type": "execute_result"
    }
   ],
   "source": [
    "# doing horizontal stacking \n",
    "np.hstack((a4,a5))"
   ]
  },
  {
   "cell_type": "markdown",
   "id": "75fc33b6",
   "metadata": {},
   "source": [
    "## Vertical Stacking - Yeah upar neeche joddega "
   ]
  },
  {
   "cell_type": "code",
   "execution_count": 122,
   "id": "076d9b1d",
   "metadata": {},
   "outputs": [
    {
     "data": {
      "text/plain": [
       "array([[ 0,  1,  2,  3],\n",
       "       [ 4,  5,  6,  7],\n",
       "       [ 8,  9, 10, 11],\n",
       "       [12, 13, 14, 15],\n",
       "       [16, 17, 18, 19],\n",
       "       [20, 21, 22, 23]])"
      ]
     },
     "execution_count": 122,
     "metadata": {},
     "output_type": "execute_result"
    }
   ],
   "source": [
    "np.vstack((a4,a5))"
   ]
  },
  {
   "cell_type": "markdown",
   "id": "d734a7b3",
   "metadata": {},
   "source": [
    "#  Splitting : just a opposite of stacking... Stacking ka ulta operation hai \n",
    "## Use:  iska use jbh 1 datasource se multiple chize hum banarahe hoo \n",
    "## e.g 1 clg ka data hai & suppose usmese branch wise data alag krna chahte hoo hum"
   ]
  },
  {
   "cell_type": "markdown",
   "id": "ac2fe81f",
   "metadata": {},
   "source": [
    "## Horizontal Splitting  Hsplit  - np.hsplit(   ,yaha pe parts daalo )\n",
    "#### isme sidhe sidhe katega \n",
    "### & equal parts mai hie katega hamesha "
   ]
  },
  {
   "cell_type": "markdown",
   "id": "dd3caa3c",
   "metadata": {},
   "source": []
  },
  {
   "cell_type": "code",
   "execution_count": 125,
   "id": "a83b8561",
   "metadata": {},
   "outputs": [
    {
     "data": {
      "text/plain": [
       "array([[ 0,  1,  2,  3],\n",
       "       [ 4,  5,  6,  7],\n",
       "       [ 8,  9, 10, 11]])"
      ]
     },
     "execution_count": 125,
     "metadata": {},
     "output_type": "execute_result"
    }
   ],
   "source": [
    "a4"
   ]
  },
  {
   "cell_type": "code",
   "execution_count": 128,
   "id": "7b4dacc0",
   "metadata": {},
   "outputs": [
    {
     "data": {
      "text/plain": [
       "[array([[0, 1],\n",
       "        [4, 5],\n",
       "        [8, 9]]),\n",
       " array([[ 2,  3],\n",
       "        [ 6,  7],\n",
       "        [10, 11]])]"
      ]
     },
     "execution_count": 128,
     "metadata": {},
     "output_type": "execute_result"
    }
   ],
   "source": [
    "np.hsplit(a4,2)"
   ]
  },
  {
   "cell_type": "code",
   "execution_count": 129,
   "id": "9cb09585",
   "metadata": {},
   "outputs": [
    {
     "data": {
      "text/plain": [
       "[array([[0],\n",
       "        [4],\n",
       "        [8]]),\n",
       " array([[1],\n",
       "        [5],\n",
       "        [9]]),\n",
       " array([[ 2],\n",
       "        [ 6],\n",
       "        [10]]),\n",
       " array([[ 3],\n",
       "        [ 7],\n",
       "        [11]])]"
      ]
     },
     "execution_count": 129,
     "metadata": {},
     "output_type": "execute_result"
    }
   ],
   "source": [
    "np.hsplit(a4,4)"
   ]
  },
  {
   "cell_type": "markdown",
   "id": "3d154cfb",
   "metadata": {},
   "source": [
    "# Vertical Splitting -  Vsplit  - yaha pe teda katega "
   ]
  },
  {
   "cell_type": "code",
   "execution_count": 130,
   "id": "1769d6ca",
   "metadata": {},
   "outputs": [
    {
     "data": {
      "text/plain": [
       "array([[12, 13, 14, 15],\n",
       "       [16, 17, 18, 19],\n",
       "       [20, 21, 22, 23]])"
      ]
     },
     "execution_count": 130,
     "metadata": {},
     "output_type": "execute_result"
    }
   ],
   "source": [
    "a5"
   ]
  },
  {
   "cell_type": "code",
   "execution_count": 135,
   "id": "8c5e6f3b",
   "metadata": {},
   "outputs": [
    {
     "data": {
      "text/plain": [
       "[array([[12, 13, 14, 15]]),\n",
       " array([[16, 17, 18, 19]]),\n",
       " array([[20, 21, 22, 23]])]"
      ]
     },
     "execution_count": 135,
     "metadata": {},
     "output_type": "execute_result"
    }
   ],
   "source": [
    "np.vsplit(a5,3)"
   ]
  }
 ],
 "metadata": {
  "kernelspec": {
   "display_name": "Python 3 (ipykernel)",
   "language": "python",
   "name": "python3"
  },
  "language_info": {
   "codemirror_mode": {
    "name": "ipython",
    "version": 3
   },
   "file_extension": ".py",
   "mimetype": "text/x-python",
   "name": "python",
   "nbconvert_exporter": "python",
   "pygments_lexer": "ipython3",
   "version": "3.9.13"
  }
 },
 "nbformat": 4,
 "nbformat_minor": 5
}
