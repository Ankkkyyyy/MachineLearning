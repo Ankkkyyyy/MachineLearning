{
 "cells": [
  {
   "attachments": {},
   "cell_type": "markdown",
   "metadata": {},
   "source": [
    "# Data Analysis Process DAP   \n",
    "                                 step 1. Data Gathering \n",
    "                                 step 2. Data Clearning \n",
    "                                 step 3. EDA Exploratory Data Analysis"
   ]
  },
  {
   "attachments": {},
   "cell_type": "markdown",
   "metadata": {},
   "source": [
    "# What is Data Analysis \n",
    "\n",
    "Data Analysis is a process of inspecting, cleansing, transforming and modeling data with the goal of discovering\n",
    "useful information,informing conclusions and supporting decision-making\n",
    "\n",
    "## Data Analysis Process -  \n",
    "###  Step 1. Asking Questions with Data  \n",
    "\n",
    "E.g Titanic Data set hai \n",
    "& set of qs that anyone can ask  on any dataset \n",
    "what columns will contribute to my analysis  \n",
    "what columns are not important for my analysis  \n",
    "which of the columns have a strong relations  \n",
    "Do i need data Preprocessing ?  \n",
    "what kind of manipulation engineering is required.  \n"
   ]
  },
  {
   "attachments": {},
   "cell_type": "markdown",
   "metadata": {},
   "source": [
    "###  Step 2. Data Wrangling or munging  or Data Preprocessing or Data Cleaning  \n",
    "\n",
    "Data Wrangling, sometimes referred to as data munging is the process of transforming and mapping data from one raw data  \n",
    "form  into another format with intent of making it more appropriate & valuable for a variety of downstream purposes such as  \n",
    "analytics \n",
    "\n",
    "in simplified term if tumhara data analysis keliye sahi nahi hai tou bss ushe clear karneke process ko \n",
    "Data Wrangling or Data Munging bollte hai \n",
    "\n",
    "1.) Gathering Data \n",
    "\n",
    "CSV Files, API, Web Scrapping , Databases \n",
    "\n",
    "2.) Assessing Data \n",
    "\n",
    "Finding number of rows.columns (shape)\n",
    "Data types of various columns (info())\n",
    "checking for missing values (info())\n",
    "check for duplicates data (is_unique)\n",
    "memory occupied by data set (info)\n",
    "High level mathematical overview of the data ( describe)\n",
    "\n",
    "3.) Cleaning Data \n",
    "\n",
    "1. Missing data (e.g mean,median or mode)\n",
    "2. Removie duplicate data (drop_duplicates)\n",
    "3. Incorrect data type (astype)\n",
    "\n",
    "\n",
    "\n"
   ]
  },
  {
   "attachments": {},
   "cell_type": "markdown",
   "metadata": {},
   "source": [
    "### Step 3. EDA Exploratory Data Analysis   \n",
    "\n",
    "2 hie kaam krte hai isme bss \n",
    "\n",
    "1) Explore ( Exploring our data) , 2) Augment ( Apnehisabse data mai changes krte hai )\n",
    "\n",
    "#### Exploring Data \n",
    "\n",
    "e.g:    \n",
    "1. Finding Correlation  & Covariance \n",
    "2. Doing univariate & multivariate analysis \n",
    "3. Plotting graphs ( data visualization )\n",
    "\n",
    "\n",
    "#### Augmenting Data \n",
    "e.g:  \n",
    "1. Removing Outliers  \n",
    "2. Merging DataFrames \n",
    "3. Adding new column  \n",
    "\n",
    "### These Operations are collectively called as Feature Engineering "
   ]
  },
  {
   "attachments": {},
   "cell_type": "markdown",
   "metadata": {},
   "source": [
    "### Step 4. Drawing Conclusion  \n",
    "\n",
    "In Data Science we use below stuff\n",
    "ML Algos ,\n",
    "Inferential Statistics,\n",
    "\n",
    "In Data Analysis we use Descriptive statistics \n",
    "\n",
    "E.g of Descriptive Stats \n",
    "1. is rohit sharma a better batsman in 2nd Innings ( IPL Dataset) ?\n",
    "2. Does being a female increases your chances of Survival ( Titanic dataset)?\n",
    "3. Is Delhi the most costly place for eating out ( Zomato Dataset) ?\n",
    "\n"
   ]
  },
  {
   "attachments": {},
   "cell_type": "markdown",
   "metadata": {},
   "source": [
    "### Step 5. Communicating Results / Story Telling \n",
    "\n",
    "Data Visualization Techniques & communication skill se kahani batate hai \n",
    "\n",
    "affirmative & story telling \n",
    "\n"
   ]
  },
  {
   "attachments": {},
   "cell_type": "markdown",
   "metadata": {},
   "source": [
    "# Data Gathering \n",
    "\n",
    "1.) data import (csv,excel, text,json, database)  \n",
    "2.) data export (csv,excel, text,json, database,HTML)  \n",
    "3.) Data from API  \n",
    "4.) Data From Web Scrapping  \n",
    "\n",
    "\n",
    "#### To be Continued in next notebook..............."
   ]
  }
 ],
 "metadata": {
  "kernelspec": {
   "display_name": "Python 3",
   "language": "python",
   "name": "python3"
  },
  "language_info": {
   "name": "python",
   "version": "3.9.13"
  },
  "orig_nbformat": 4,
  "vscode": {
   "interpreter": {
    "hash": "43a24ecce625020f2d6631fb4cfb730bba30d877e9fe9ec2e0d85cb5a52a2b64"
   }
  }
 },
 "nbformat": 4,
 "nbformat_minor": 2
}
